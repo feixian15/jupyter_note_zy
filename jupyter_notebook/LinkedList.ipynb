{
 "cells": [
  {
   "cell_type": "markdown",
   "metadata": {},
   "source": [
    "判断两个链表是否相交\n",
    "\n",
    "参考：\n",
    "https://zhuanlan.zhihu.com/p/43142694\n",
    "http://wuchong.me/blog/2014/03/25/interview-link-questions/"
   ]
  },
  {
   "cell_type": "code",
   "execution_count": 4,
   "metadata": {},
   "outputs": [],
   "source": [
    "## 在 O(1) 时间删除链表节点，参考：https://leetcode-cn.com/problems/delete-node-in-a-linked-list/"
   ]
  },
  {
   "cell_type": "code",
   "execution_count": 5,
   "metadata": {},
   "outputs": [],
   "source": [
    "## 反转链表，参考：https://leetcode-cn.com/problems/reverse-linked-list/submissions/\n",
    "## python代码和c++代码都有"
   ]
  },
  {
   "cell_type": "code",
   "execution_count": null,
   "metadata": {},
   "outputs": [],
   "source": [
    "## 判断单链表是否存在环： https://leetcode-cn.com/problems/linked-list-cycle/\n",
    "## 寻找环形链表的入口： https://leetcode-cn.com/problems/linked-list-cycle-ii/"
   ]
  }
 ],
 "metadata": {
  "kernelspec": {
   "display_name": "Python 3",
   "language": "python",
   "name": "python3"
  },
  "language_info": {
   "codemirror_mode": {
    "name": "ipython",
    "version": 3
   },
   "file_extension": ".py",
   "mimetype": "text/x-python",
   "name": "python",
   "nbconvert_exporter": "python",
   "pygments_lexer": "ipython3",
   "version": "3.6.0"
  }
 },
 "nbformat": 4,
 "nbformat_minor": 2
}
