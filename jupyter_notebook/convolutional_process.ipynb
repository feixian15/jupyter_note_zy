{
 "cells": [
  {
   "cell_type": "markdown",
   "metadata": {},
   "source": [
    "## 用nn函数算出来是错的"
   ]
  },
  {
   "cell_type": "code",
   "execution_count": 2,
   "metadata": {},
   "outputs": [],
   "source": [
    "import numpy as np\n",
    "import torch.nn as nn\n",
    "import torch\n",
    "import torch.nn.functional as F"
   ]
  },
  {
   "cell_type": "code",
   "execution_count": 3,
   "metadata": {},
   "outputs": [],
   "source": [
    "m = nn.Conv2d(2, 1, 3, stride=1)"
   ]
  },
  {
   "cell_type": "code",
   "execution_count": 4,
   "metadata": {},
   "outputs": [
    {
     "data": {
      "text/plain": [
       "Parameter containing:\n",
       "tensor([[[[-0.0156,  0.0440, -0.1391],\n",
       "          [ 0.1189,  0.0615, -0.2221],\n",
       "          [-0.0245,  0.1586, -0.2049]],\n",
       "\n",
       "         [[-0.1723,  0.0038,  0.1908],\n",
       "          [ 0.1845, -0.2290, -0.0811],\n",
       "          [-0.2066,  0.0974,  0.1042]]]], requires_grad=True)"
      ]
     },
     "execution_count": 4,
     "metadata": {},
     "output_type": "execute_result"
    }
   ],
   "source": [
    "m.weight"
   ]
  },
  {
   "cell_type": "code",
   "execution_count": 5,
   "metadata": {},
   "outputs": [
    {
     "data": {
      "text/plain": [
       "Parameter containing:\n",
       "tensor([0.0875], requires_grad=True)"
      ]
     },
     "execution_count": 5,
     "metadata": {},
     "output_type": "execute_result"
    }
   ],
   "source": [
    "m.bias"
   ]
  },
  {
   "cell_type": "code",
   "execution_count": 6,
   "metadata": {},
   "outputs": [],
   "source": [
    "img = torch.randn(1,2,3,3)"
   ]
  },
  {
   "cell_type": "code",
   "execution_count": 7,
   "metadata": {},
   "outputs": [
    {
     "data": {
      "text/plain": [
       "tensor([[[[ 0.5160,  0.1288, -0.2415],\n",
       "          [-1.3470, -0.0415, -0.5655],\n",
       "          [-0.8501,  0.5800, -0.5635]],\n",
       "\n",
       "         [[-0.0401,  0.8671, -0.3199],\n",
       "          [ 1.3066, -0.9276, -0.3050],\n",
       "          [-3.0326,  0.9111,  0.1247]]]])"
      ]
     },
     "execution_count": 7,
     "metadata": {},
     "output_type": "execute_result"
    }
   ],
   "source": [
    "img"
   ]
  },
  {
   "cell_type": "code",
   "execution_count": 8,
   "metadata": {},
   "outputs": [
    {
     "data": {
      "text/plain": [
       "tensor([[[[1.4655]]]], grad_fn=<ThnnConv2DBackward>)"
      ]
     },
     "execution_count": 8,
     "metadata": {},
     "output_type": "execute_result"
    }
   ],
   "source": [
    "m(img)"
   ]
  },
  {
   "cell_type": "code",
   "execution_count": 9,
   "metadata": {},
   "outputs": [],
   "source": [
    "test1 = np.array([[-0.0156,  0.0440, -0.1391],\n",
    "          [ 0.1189,  0.0615, -0.2221],\n",
    "          [-0.0245,  0.1586, -0.2049]])\n",
    "test2 = np.array([[-0.1723,  0.0038,  0.1908],\n",
    "          [ 0.1845, -0.2290, -0.0811],\n",
    "          [-0.2066,  0.0974,  0.1042]])"
   ]
  },
  {
   "cell_type": "code",
   "execution_count": 10,
   "metadata": {},
   "outputs": [],
   "source": [
    "img1 = np.array([[ 0.5160,  0.1288, -0.2415],\n",
    "          [-1.3470, -0.0415, -0.5655],\n",
    "          [-0.8501,  0.5800, -0.5635]])\n",
    "img2 = np.array([[-0.0401,  0.8671, -0.3199],\n",
    "          [ 1.3066, -0.9276, -0.3050],\n",
    "          [-3.0326,  0.9111,  0.1247]])"
   ]
  },
  {
   "cell_type": "code",
   "execution_count": 15,
   "metadata": {},
   "outputs": [
    {
     "data": {
      "text/plain": [
       "-0.033435019999999996"
      ]
     },
     "execution_count": 15,
     "metadata": {},
     "output_type": "execute_result"
    }
   ],
   "source": [
    "(test1.flatten() * img1.flatten()).sum()"
   ]
  },
  {
   "cell_type": "code",
   "execution_count": 16,
   "metadata": {},
   "outputs": [
    {
     "data": {
      "text/plain": [
       "-0.21885754999999993"
      ]
     },
     "execution_count": 16,
     "metadata": {},
     "output_type": "execute_result"
    }
   ],
   "source": [
    "(test2.flatten() * img2.flatten()).sum()"
   ]
  },
  {
   "cell_type": "code",
   "execution_count": 17,
   "metadata": {},
   "outputs": [
    {
     "data": {
      "text/plain": [
       "-0.16479256999999994"
      ]
     },
     "execution_count": 17,
     "metadata": {},
     "output_type": "execute_result"
    }
   ],
   "source": [
    "-0.033435019999999996-0.21885754999999993+0.0875"
   ]
  },
  {
   "cell_type": "markdown",
   "metadata": {},
   "source": [
    "## 用F函数是对的"
   ]
  },
  {
   "cell_type": "code",
   "execution_count": 85,
   "metadata": {},
   "outputs": [
    {
     "data": {
      "text/plain": [
       "tensor([[[[ 0.2429,  0.7151,  0.2877],\n",
       "          [ 0.1758, -0.4354,  1.4375],\n",
       "          [-1.1302, -0.5881, -1.2069]],\n",
       "\n",
       "         [[ 1.2426,  1.3736, -0.1493],\n",
       "          [ 1.0309,  0.0439,  0.1198],\n",
       "          [-1.4130,  1.6267,  0.2951]]]])"
      ]
     },
     "execution_count": 85,
     "metadata": {},
     "output_type": "execute_result"
    }
   ],
   "source": [
    "filters = torch.randn(1,2,3,3)\n",
    "filters"
   ]
  },
  {
   "cell_type": "code",
   "execution_count": 86,
   "metadata": {},
   "outputs": [
    {
     "data": {
      "text/plain": [
       "tensor([[[[ 1.5788,  0.0817, -2.0450],\n",
       "          [-1.0694, -0.3810, -0.8863],\n",
       "          [ 2.0288,  0.6449, -1.1850]],\n",
       "\n",
       "         [[ 0.1782,  1.6458,  0.0079],\n",
       "          [ 0.9727, -0.1143,  0.7050],\n",
       "          [-1.7288,  0.9041, -0.7824]]]])"
      ]
     },
     "execution_count": 86,
     "metadata": {},
     "output_type": "execute_result"
    }
   ],
   "source": [
    "inputs = torch.randn(1,2,3,3)\n",
    "inputs"
   ]
  },
  {
   "cell_type": "code",
   "execution_count": 89,
   "metadata": {},
   "outputs": [
    {
     "data": {
      "text/plain": [
       "tensor([[[[4.5611]]]])"
      ]
     },
     "execution_count": 89,
     "metadata": {},
     "output_type": "execute_result"
    }
   ],
   "source": [
    "F.conv2d(inputs, filters)"
   ]
  },
  {
   "cell_type": "code",
   "execution_count": 90,
   "metadata": {},
   "outputs": [],
   "source": [
    "test1 = np.array([[ 0.2429,  0.7151,  0.2877],\n",
    "          [ 0.1758, -0.4354,  1.4375],\n",
    "          [-1.1302, -0.5881, -1.2069]])\n",
    "test2 = np.array([[ 1.2426,  1.3736, -0.1493],\n",
    "          [ 1.0309,  0.0439,  0.1198],\n",
    "          [-1.4130,  1.6267,  0.2951]])"
   ]
  },
  {
   "cell_type": "code",
   "execution_count": 91,
   "metadata": {},
   "outputs": [],
   "source": [
    "img1 = np.array([[ 1.5788,  0.0817, -2.0450],\n",
    "          [-1.0694, -0.3810, -0.8863],\n",
    "          [ 2.0288,  0.6449, -1.1850]])\n",
    "img2 = np.array([[ 0.1782,  1.6458,  0.0079],\n",
    "          [ 0.9727, -0.1143,  0.7050],\n",
    "          [-1.7288,  0.9041, -0.7824]])"
   ]
  },
  {
   "cell_type": "code",
   "execution_count": 92,
   "metadata": {},
   "outputs": [
    {
     "data": {
      "text/plain": [
       "-2.6846406299999996"
      ]
     },
     "execution_count": 92,
     "metadata": {},
     "output_type": "execute_result"
    }
   ],
   "source": [
    "(test1.flatten() * img1.flatten()).sum()"
   ]
  },
  {
   "cell_type": "code",
   "execution_count": 93,
   "metadata": {},
   "outputs": [
    {
     "data": {
      "text/plain": [
       "7.24572802"
      ]
     },
     "execution_count": 93,
     "metadata": {},
     "output_type": "execute_result"
    }
   ],
   "source": [
    "(test2.flatten() * img2.flatten()).sum()"
   ]
  },
  {
   "cell_type": "code",
   "execution_count": 96,
   "metadata": {},
   "outputs": [
    {
     "data": {
      "text/plain": [
       "4.56108739"
      ]
     },
     "execution_count": 96,
     "metadata": {},
     "output_type": "execute_result"
    }
   ],
   "source": [
    "7.24572802-2.6846406299999996"
   ]
  }
 ],
 "metadata": {
  "kernelspec": {
   "display_name": "Python 3",
   "language": "python",
   "name": "python3"
  },
  "language_info": {
   "codemirror_mode": {
    "name": "ipython",
    "version": 3
   },
   "file_extension": ".py",
   "mimetype": "text/x-python",
   "name": "python",
   "nbconvert_exporter": "python",
   "pygments_lexer": "ipython3",
   "version": "3.6.0"
  }
 },
 "nbformat": 4,
 "nbformat_minor": 2
}
