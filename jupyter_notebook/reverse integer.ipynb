{
 "cells": [
  {
   "cell_type": "markdown",
   "metadata": {},
   "source": [
    "### 方法一：使用python字符串的反转方法\n",
    "### 知识点：str()[::-1]"
   ]
  },
  {
   "cell_type": "code",
   "execution_count": 10,
   "metadata": {},
   "outputs": [
    {
     "name": "stdout",
     "output_type": "stream",
     "text": [
      "23\n"
     ]
    }
   ],
   "source": [
    "##方法一:利用python字符串的反转来实现\n",
    "class Solution:\n",
    "    def reverse(self, x):\n",
    "        \"\"\"\n",
    "        :type x: int\n",
    "        :rtype: int\n",
    "        \"\"\"\n",
    "        x_reverse=int(str(x)[::-1]) if x>=0 else -int(str(- x)[::-1])  ##注意该三元表达式的写法\n",
    "        return x_reverse if x_reverse<2147483648 and x_reverse>=-2147483648 else 0\n",
    "a=Solution() \n",
    "b=a.reverse(320)##使用类的内部方法时需要提前定义具体的实例a\n",
    "print(b)"
   ]
  },
  {
   "cell_type": "markdown",
   "metadata": {},
   "source": [
    "### 方法二：通过x%10取余数（也就是个位上的数），然后余数*10\n",
    "### 知识点：%是取余计算，也就是求模"
   ]
  },
  {
   "cell_type": "code",
   "execution_count": 16,
   "metadata": {},
   "outputs": [
    {
     "name": "stdout",
     "output_type": "stream",
     "text": [
      "-23\n"
     ]
    }
   ],
   "source": [
    "##方法二：\n",
    "class Solution:\n",
    "    def reverse(self, x):\n",
    "        \"\"\"\n",
    "        :type x: int\n",
    "        :rtype: int\n",
    "        \"\"\"\n",
    "        flag=1 if x>=0 else -1\n",
    "        x=abs(x)\n",
    "        x_reverse=0\n",
    "        \n",
    "        while(x):\n",
    "            x_reverse=x_reverse*10+ x%10\n",
    "            x=x//10\n",
    "        return x_reverse*flag if x_reverse*flag < 2147483648 and x_reverse*flag >= -2147483648 else 0\n",
    "\n",
    "a=Solution() \n",
    "b=a.reverse(-320)##使用类的内部方法时需要提前定义具体的实例a\n",
    "print(b)\n",
    "            "
   ]
  },
  {
   "cell_type": "code",
   "execution_count": null,
   "metadata": {
    "collapsed": true
   },
   "outputs": [],
   "source": []
  }
 ],
 "metadata": {
  "kernelspec": {
   "display_name": "Python 2",
   "language": "python",
   "name": "python2"
  },
  "language_info": {
   "codemirror_mode": {
    "name": "ipython",
    "version": 2
   },
   "file_extension": ".py",
   "mimetype": "text/x-python",
   "name": "python",
   "nbconvert_exporter": "python",
   "pygments_lexer": "ipython2",
   "version": "2.7.14"
  }
 },
 "nbformat": 4,
 "nbformat_minor": 2
}
