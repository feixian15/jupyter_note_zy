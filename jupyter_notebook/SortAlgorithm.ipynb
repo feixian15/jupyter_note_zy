{
 "cells": [
  {
   "cell_type": "markdown",
   "metadata": {},
   "source": [
    "## 注意：\n",
    "1. 遍历的时候数组最后的下标索引是n-1，但是range(n-1)遍历的时候只能到n-2\n",
    "2. 算法时间复杂度的概念参考：https://blog.csdn.net/itachi85/article/details/54882603\n",
    "3. 各种排序算法时间空间复杂度分析表：https://www.cnblogs.com/wuxiangli/p/6399266.html"
   ]
  },
  {
   "cell_type": "markdown",
   "metadata": {},
   "source": [
    "## 冒泡排序\n",
    "时间复杂度概念参考数据结构/时间复杂度和空间复杂度。for循环体里面不管比较代码和移位代码，都当作1次  \n",
    "时间复杂度：最差为O(n**2)，最好为O(n), O(n)的代码需要调整：https://www.cnblogs.com/melon-h/archive/2012/09/20/2694941.html\n"
   ]
  },
  {
   "cell_type": "code",
   "execution_count": 1,
   "metadata": {},
   "outputs": [
    {
     "data": {
      "text/plain": [
       "([1, 2, 4, 5, 6], 8)"
      ]
     },
     "execution_count": 1,
     "metadata": {},
     "output_type": "execute_result"
    }
   ],
   "source": [
    "\n",
    "lists = [5,4,6,2,1]\n",
    "m=0\n",
    "n = len(lists)\n",
    "for i in range(n-1):\n",
    "    for j in range(n-1-i):\n",
    "        if lists[j] > lists[j+1]:\n",
    "            m+=1\n",
    "            lists[j],lists[j+1] = lists[j+1],lists[j]\n",
    "lists,m"
   ]
  },
  {
   "cell_type": "markdown",
   "metadata": {},
   "source": [
    "## 快排\n",
    "思路：(1)挖坑 (2)二分  \n",
    "注意：\n",
    "1. 把基准值小的放左边，大的放右边\n",
    "2. 两个while，一直找到需要交换的值才行(有时间思考下这两个while能不能合成一个while)\n",
    "\n",
    "快排的时间复杂度：nlogn，这个时间复杂度还没弄懂，参考： https://blog.csdn.net/qfikh/article/details/52870875#commentBox\n",
    "https://www.zhihu.com/question/22393997，   \n",
    "递归的复杂度时间分析：https://www.cnblogs.com/python27/archive/2011/12/09/2282486.html"
   ]
  },
  {
   "cell_type": "code",
   "execution_count": 7,
   "metadata": {},
   "outputs": [
    {
     "data": {
      "text/plain": [
       "[1, 2, 4, 5, 6]"
      ]
     },
     "execution_count": 7,
     "metadata": {},
     "output_type": "execute_result"
    }
   ],
   "source": [
    "## 使用切割array的方式，array[0:i]这样排序不行，递归的时候array更新的地址发生了变化，应该是fun(array,)\n",
    "def fun_test(array):\n",
    "    def fun1_test(array):\n",
    "        if array ==[]: return\n",
    "        tmp = (array[0])\n",
    "        i = 0\n",
    "        j = len(array)-1\n",
    "        while (i<j):\n",
    "            ##从做左到右\n",
    "            while((i<j)&(array[j]>=tmp)):\n",
    "                j = j-1\n",
    "            if (i<j):\n",
    "                array[i] = array[j]\n",
    "                i = i + 1\n",
    "            while((i<j)&((array[i])<=tmp)):\n",
    "                i = i+1\n",
    "            if (i<j):\n",
    "                array[j] = array[i]\n",
    "                j = j-1\n",
    "        array[i] = tmp\n",
    "        fun1_test(array[0:i])\n",
    "        fun1_test(array[i+1:])     \n",
    "    fun1_test(array)\n",
    "    return array\n",
    "\n",
    "## 快排，将array的索引做成参数fun(array,0,len(array))\n",
    "class Solution():\n",
    "    def fun(self, lists):\n",
    "        def warp(lists, first, end):\n",
    "            if lists[first:end] == []: return\n",
    "            if len(lists[first:end]) == 1: return\n",
    "            base = lists[first]\n",
    "            i = first\n",
    "            j = end\n",
    "            while (i < j):\n",
    "                while ((i < j)and(lists[j] > base)):\n",
    "                    j = j - 1\n",
    "                if i == j:\n",
    "                    break\n",
    "                else:\n",
    "                    lists[i] = lists[j]\n",
    "                    i = i + 1\n",
    "                while ((i < j) and (lists[i] < base)):\n",
    "                    i = i + 1\n",
    "                if i == j:\n",
    "                    break\n",
    "                else:\n",
    "                    lists[j] = lists[i]\n",
    "                    j = j - 1\n",
    "            lists[i] = base\n",
    "            warp(lists, first, i)\n",
    "            warp(lists, i + 1, end)\n",
    "\n",
    "        warp(lists, 0, len(lists) - 1)\n",
    "\n",
    "\n",
    "lists = [5,4,6,2,1]\n",
    "Solution().fun(lists)\n",
    "lists"
   ]
  },
  {
   "cell_type": "markdown",
   "metadata": {},
   "source": [
    "## 归并排序\n",
    "注意：\n",
    "1. array1，array2排好序后,排序放入tmp中时候，索引index1和index2交替增加时，不需要两个while解决问题\n",
    "\n",
    "参考：https://www.jianshu.com/p/33cffa1ce613  \n",
    "时间复杂度：nlong2(n),采用递归中的迭代法，参考：https://blog.csdn.net/so_geili/article/details/53444816  \n",
    "空间复杂度：n，归并排序需要一个与原数组相同长度的数组做辅助来排序  "
   ]
  },
  {
   "cell_type": "code",
   "execution_count": 6,
   "metadata": {},
   "outputs": [
    {
     "data": {
      "text/plain": [
       "[2, 4, 5, 6, 8]"
      ]
     },
     "execution_count": 6,
     "metadata": {},
     "output_type": "execute_result"
    }
   ],
   "source": [
    "lists = [5, 4, 6, 2, 8]\n",
    "def fun(array):\n",
    "    if len(array) == 1: return array\n",
    "\n",
    "    middle = len(array) // 2\n",
    "    array1 = fun(array[0:middle])\n",
    "    array2 = fun(array[middle:])\n",
    "    i = 0\n",
    "    j = 0\n",
    "    tmp = []\n",
    "    while ((i != len(array1)) & (j != len(array2))):\n",
    "        if array1[i] < array2[j]:\n",
    "            tmp.append(array1[i])\n",
    "            i = i + 1\n",
    "        else:\n",
    "            tmp.append(array2[j])\n",
    "            j = j + 1\n",
    "    while (i<len(array1)):\n",
    "        tmp.append(array1[i])\n",
    "        i = i + 1\n",
    "    while (j < len(array2)):\n",
    "        tmp.append(array2[j])\n",
    "        j = j + 1\n",
    "    return tmp\n",
    "\n",
    "(fun(lists))"
   ]
  },
  {
   "cell_type": "markdown",
   "metadata": {},
   "source": [
    "## 堆排序\n",
    "### 基础概念：\n",
    "1. 使用大根堆小根堆来进行排序，大根堆：每个结点的值都大于或等于左右孩子结点；小根堆：每个结点的值都小于或等于左右孩子结点\n",
    "2. 完全二叉树：所有层从左边开始排\n",
    "3. 主要解决两个问题：(1).首先将待排序的数组构造出一个大根堆 (2).取出这个大根堆的堆顶节点(最大值)，与堆的最下最右的元素进行交换，然后把剩下的元素再构造出一个大根堆\n",
    "4. 时间复杂度O(nlog2n)，这个还没弄懂\n",
    "5. 空间复杂度：O(1)  \n",
    "6. 参考:https://www.jianshu.com/p/d174f1862601"
   ]
  },
  {
   "cell_type": "code",
   "execution_count": 7,
   "metadata": {},
   "outputs": [
    {
     "data": {
      "text/plain": [
       "[-1, 2, 10, 16, 30, 50, 60, 70, 80, 90]"
      ]
     },
     "execution_count": 7,
     "metadata": {},
     "output_type": "execute_result"
    }
   ],
   "source": [
    "## 第一版\n",
    "# lists = [50, 16, 30, 10, 60, 90, 2, 80, 70]\n",
    "# lists.insert(0,-1)\n",
    "# lenth = (len(lists)-1)\n",
    "# tmp1 = lenth//2\n",
    "\n",
    "# for i in range(tmp1,0,-1): ##把数组变为一个大顶堆，大顶堆仍然用数组表示\n",
    "#     start_tmp = lists[i]\n",
    "#     start = i\n",
    "#     j = i*2\n",
    "#     while(j<=lenth): ##下标j必须小于数组长度\n",
    "#         if ((j<lenth)and(lists[j]<lists[j+1])):##j<lenth考虑到j=lenth的时候，此时只有左子节点，没有右子节点，不能进行判断\n",
    "#             j=j+1\n",
    "#         if (lists[start]<lists[j]):\n",
    "#             lists[start],lists[j] = lists[j],lists[start]\n",
    "#             start = j\n",
    "#             j = 2*j\n",
    "#         else:\n",
    "#             break\n",
    "\n",
    "# for index in range(lenth,1,-1): ##总共需要进行交换的次数\n",
    "#     lists[1],lists[index] = lists[index],lists[1]  ## 将顶部元素和尾部元素进行交换\n",
    "#     lenth_tmp = lenth_tmp-1\n",
    "#     start = 1\n",
    "#     j = start*2\n",
    "#     while(j<=lenth_tmp): ## 重新进行排序成大顶堆，下标j必须小于数组长度\n",
    "#         if ((j<lenth_tmp)and(lists[j]<lists[j+1])):##j<lenth考虑到j=lenth的时候，此时只有左子节点，没有右子节点，不能进行判断\n",
    "#             j=j+1\n",
    "#         if (lists[start]<lists[j]):\n",
    "#             lists[start],lists[j] = lists[j],lists[start]\n",
    "#             start = j\n",
    "#             j = 2*j\n",
    "#         else:\n",
    "#             break\n",
    "\n",
    "            \n",
    "## 第二版优化，把通用的部分做成函数\n",
    "def heap(lists,start,lenth_tmp):\n",
    "    for index in range(start,0,-1):\n",
    "        start = index\n",
    "        j = start*2\n",
    "        while(j<=lenth_tmp): ##下标j必须小于数组长度\n",
    "            if ((j<lenth_tmp)and(lists[j]<lists[j+1])):##j<lenth考虑到j=lenth的时候，此时只有左子节点，没有右子节点，不能进行判断\n",
    "                j=j+1\n",
    "            if (lists[start]<lists[j]):\n",
    "                lists[start],lists[j] = lists[j],lists[start]\n",
    "                start = j\n",
    "                j = 2*j\n",
    "            else:\n",
    "                break\n",
    "                \n",
    "lists = [50, 16, 30, 10, 60, 90, 2, 80, 70]\n",
    "lists.insert(0,-1)\n",
    "lenth = (len(lists)-1)\n",
    "lenth_tmp = lenth\n",
    "heap(lists,lenth//2,lenth)\n",
    "for index in range(lenth,1,-1): ##总共需要进行交换的次数\n",
    "    lists[1],lists[index] = lists[index],lists[1]\n",
    "    lenth_tmp = lenth_tmp-1\n",
    "    heap(lists,1,lenth_tmp)\n",
    "    \n",
    "lists"
   ]
  },
  {
   "cell_type": "markdown",
   "metadata": {},
   "source": [
    "## 选择排序\n",
    "选择出最大的或者最小的值，和最后一个数进行互换  \n",
    "时间复杂度：O(n^2)  \n",
    "空间复杂度：1"
   ]
  },
  {
   "cell_type": "code",
   "execution_count": 2,
   "metadata": {},
   "outputs": [
    {
     "data": {
      "text/plain": [
       "([2, 4, 5, 6, 8], 2)"
      ]
     },
     "execution_count": 2,
     "metadata": {},
     "output_type": "execute_result"
    }
   ],
   "source": [
    "lists = [5,4,6,2,8]\n",
    "n = len(lists)\n",
    "m=0\n",
    "\n",
    "for i in range(n-1):\n",
    "    temp = 0\n",
    "    for j in range(n-i):\n",
    "        if lists[temp] < lists[j]:\n",
    "            temp = j\n",
    "    if temp != n-1-i:\n",
    "        lists[temp],lists[n-1-i] = lists[n-1-i],lists[temp]\n",
    "        m+=1\n",
    "lists,m"
   ]
  },
  {
   "cell_type": "markdown",
   "metadata": {},
   "source": [
    "## 插入排序\n",
    "把前面的排序先弄好，后面逐渐添加  \n",
    "时间复杂度：O(n**2)"
   ]
  },
  {
   "cell_type": "code",
   "execution_count": 3,
   "metadata": {},
   "outputs": [
    {
     "data": {
      "text/plain": [
       "([1, 2, 4, 5, 6], 8)"
      ]
     },
     "execution_count": 3,
     "metadata": {},
     "output_type": "execute_result"
    }
   ],
   "source": [
    "lists = [5,4,6,2,1]\n",
    "n = len(lists)\n",
    "m=0\n",
    "\n",
    "for i in range(1,n):\n",
    "    for j in range(i,0,-1):\n",
    "        if lists[j] < lists[j-1]:\n",
    "            lists[j],lists[j-1]= lists[j-1],lists[j]\n",
    "            m+=1\n",
    "        else:\n",
    "            break\n",
    "lists,m"
   ]
  },
  {
   "cell_type": "markdown",
   "metadata": {},
   "source": [
    "## 二分法插入排序法\n",
    "alist=[2,4,7,1,13,5]"
   ]
  },
  {
   "cell_type": "code",
   "execution_count": 18,
   "metadata": {},
   "outputs": [
    {
     "data": {
      "text/plain": [
       "([1, 2, 4, 5, 6], 7)"
      ]
     },
     "execution_count": 18,
     "metadata": {},
     "output_type": "execute_result"
    }
   ],
   "source": [
    "\n",
    " m=0\n",
    "\n",
    "for i in range(1,len(alist)):\n",
    "    index=alist[i]\n",
    "    low=0\n",
    "    heigh=i-1\n",
    "    while low<=heigh:  \n",
    "        m=m+1\n",
    "        mid=(low+heigh)//2\n",
    "        if alist[mid]<index:\n",
    "            low = mid + 1\n",
    "        elif alist[mid]>index:\n",
    "            heigh = mid - 1\n",
    "        else:\n",
    "            low=mid+1\n",
    "            break\n",
    "    for j in range(i,low,-1):\n",
    "        alist[j]=alist[j-1]\n",
    "    alist[low]=index\n",
    "alist,m"
   ]
  },
  {
   "cell_type": "code",
   "execution_count": null,
   "metadata": {},
   "outputs": [],
   "source": []
  },
  {
   "cell_type": "code",
   "execution_count": 30,
   "metadata": {},
   "outputs": [
    {
     "data": {
      "text/plain": [
       "[-1, 2, 6, 3, 9, 3]"
      ]
     },
     "execution_count": 30,
     "metadata": {},
     "output_type": "execute_result"
    }
   ],
   "source": [
    "my_lists = [2,6,3,9,3]\n",
    "my_lists.insert(0,-1)\n",
    "my_lists"
   ]
  },
  {
   "cell_type": "code",
   "execution_count": 31,
   "metadata": {},
   "outputs": [],
   "source": [
    "test = {'sdf':3}"
   ]
  },
  {
   "cell_type": "code",
   "execution_count": 32,
   "metadata": {},
   "outputs": [
    {
     "data": {
      "text/plain": [
       "{'sdf': 3}"
      ]
     },
     "execution_count": 32,
     "metadata": {},
     "output_type": "execute_result"
    }
   ],
   "source": [
    "test"
   ]
  },
  {
   "cell_type": "code",
   "execution_count": null,
   "metadata": {},
   "outputs": [],
   "source": []
  }
 ],
 "metadata": {
  "kernelspec": {
   "display_name": "Python 3",
   "language": "python",
   "name": "python3"
  },
  "language_info": {
   "codemirror_mode": {
    "name": "ipython",
    "version": 3
   },
   "file_extension": ".py",
   "mimetype": "text/x-python",
   "name": "python",
   "nbconvert_exporter": "python",
   "pygments_lexer": "ipython3",
   "version": "3.6.0"
  }
 },
 "nbformat": 4,
 "nbformat_minor": 2
}
