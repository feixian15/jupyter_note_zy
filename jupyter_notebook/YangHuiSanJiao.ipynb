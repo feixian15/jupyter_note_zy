{
 "cells": [
  {
   "cell_type": "code",
   "execution_count": 1,
   "metadata": {},
   "outputs": [
    {
     "name": "stdout",
     "output_type": "stream",
     "text": [
      "          1 \n",
      "         2 3 \n",
      "        4 5 6 \n",
      "       7 8 9 10 \n",
      "      11 12 13 14 15 \n",
      "     16 17 18 19 20 21 \n",
      "    22 23 24 25 26 27 28 \n",
      "   29 30 31 32 33 34 35 36 \n",
      "  37 38 39 40 41 42 43 44 45 \n",
      " 46 47 48 49 50 51 52 53 54 55 \n"
     ]
    }
   ],
   "source": [
    "n=10\n",
    "data = 0\n",
    "for i in range(n):\n",
    "    temp = n-i\n",
    "    kongge = ''\n",
    "    for j in range(temp):\n",
    "        kongge=kongge+' '\n",
    "    for j in range(i+1):\n",
    "        data =data +1\n",
    "        kongge= kongge + str(data)+' '\n",
    "    print(kongge)"
   ]
  },
  {
   "cell_type": "code",
   "execution_count": null,
   "metadata": {},
   "outputs": [],
   "source": [
    "array = np.random.randint(0,8,(4,4))\n",
    "array"
   ]
  },
  {
   "cell_type": "code",
   "execution_count": null,
   "metadata": {},
   "outputs": [],
   "source": [
    "colums = array_test.shape[1]\n",
    "rows = array_test.shape[0]\n",
    "colums,rows"
   ]
  },
  {
   "cell_type": "code",
   "execution_count": null,
   "metadata": {},
   "outputs": [],
   "source": [
    "x1=0\n",
    "x2=rows\n",
    "y1=0\n",
    "y2=colums\n",
    "result = []\n",
    "while((x1<x2) and (y1 < y2)):\n",
    "    temp = list(array[x1,y1:y2])\n",
    "    for i in temp:\n",
    "        result.append(i)\n",
    "    if x1+1 < x2:\n",
    "        temp = list(array[x1+1:x2,y2-1])\n",
    "        for i in temp:\n",
    "            result.append(i)\n",
    "    else:\n",
    "        break\n",
    "    \n",
    "    #第三个\n",
    "    if y1 < y2-1:\n",
    "        temp = list(array[x2-1,y1:y2-1])\n",
    "        temp.reverse()\n",
    "        for i in temp:\n",
    "            result.append(i)\n",
    "    else:\n",
    "        break\n",
    "        \n",
    "    ##第四个\n",
    "    if x1+1 < x2 :\n",
    "        temp = list(array[x1+1:x2-1,y1])\n",
    "        temp.reverse()\n",
    "        for i in temp:\n",
    "            result.append(i)\n",
    "    else:\n",
    "        break\n",
    "    x1 = x1 +1\n",
    "    x2 = x2 -1\n",
    "    y1 =y1 + 1\n",
    "    y2 = y2 -1"
   ]
  },
  {
   "cell_type": "code",
   "execution_count": null,
   "metadata": {},
   "outputs": [],
   "source": [
    "result"
   ]
  }
 ],
 "metadata": {
  "kernelspec": {
   "display_name": "Python 3",
   "language": "python",
   "name": "python3"
  },
  "language_info": {
   "codemirror_mode": {
    "name": "ipython",
    "version": 3
   },
   "file_extension": ".py",
   "mimetype": "text/x-python",
   "name": "python",
   "nbconvert_exporter": "python",
   "pygments_lexer": "ipython3",
   "version": "3.6.0"
  }
 },
 "nbformat": 4,
 "nbformat_minor": 2
}
