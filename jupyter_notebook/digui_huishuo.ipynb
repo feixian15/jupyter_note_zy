{
 "cells": [
  {
   "cell_type": "markdown",
   "metadata": {},
   "source": [
    "递归问题注意：\n",
    "1. 想想如何把问题转为递归子问题\n",
    "2. 找到退出条件\n",
    "3. 用一个元素最少的例子想想代码怎么写\n",
    "\n",
    "递归问题常见的几类：\n",
    "1. 求阶乘（太简单，不做笔记）\n",
    "2. 斐波拉契数列\n",
    "3. 全排列问题\n",
    "4. 汉诺塔问题"
   ]
  },
  {
   "cell_type": "markdown",
   "metadata": {},
   "source": [
    "# 全排列问题:\n",
    "比如：集合{ 1,2,3}的全排列为：\n",
    "{ 1 2 3} \n",
    "{ 1 3 2 }\n",
    "{ 2 1 3 }\n",
    "{ 2 3 1 }\n",
    "{ 3 2 1 }\n",
    "{ 3 1 2 }\n",
    "\n",
    "1. 递归思想：取出数组第一个元素，剩下n-1个继续做全排列。或者是交换第一个元素和其他元素的位置，后面n-1个元素继续做全排列。\n",
    " - 方法一（递归）：取出数组第一个元素（需要遍历取完所有元素），剩下n-1个继续做全排列 \n",
    " - 方法二（递归）：交换第一个元素和其他元素的位置，后面n-1个元素继续做全排列。\n",
    "\n",
    "2. 非递归方法：后面详细介绍"
   ]
  },
  {
   "cell_type": "markdown",
   "metadata": {},
   "source": [
    "### 递归方法一：取出数组第一个元素（需要遍历取完所有元素），剩下n-1个继续做全排列。![image.png](attachment:image.png)\n",
    "具体可参考：https://www.cnblogs.com/huxianglin/p/5906510.html"
   ]
  },
  {
   "cell_type": "code",
   "execution_count": 98,
   "metadata": {},
   "outputs": [
    {
     "name": "stdout",
     "output_type": "stream",
     "text": [
      "[1, 2, 3]\n",
      "[1, 3, 2]\n",
      "[2, 1, 3]\n",
      "[2, 3, 1]\n",
      "[3, 1, 2]\n",
      "[3, 2, 1]\n"
     ]
    }
   ],
   "source": [
    "# 博主写的代码\n",
    "# def perm(list,stack):\n",
    "#     if not list:\n",
    "#         print(stack)  # 到树的最后，输出结果\n",
    "#     else:  # 没有到树的叶子节点的时候，使用递归继续往下找。\n",
    "#         for i in range(len(list)):\n",
    "#             stack.append(list[i])\n",
    "#             del list[i]\n",
    "#             perm(list,stack)\n",
    "#             list.insert(i,stack.pop())\n",
    "\n",
    "# lists=[1,2,3]\n",
    "# stack=[]\n",
    "# perm(lists,stack)\n",
    "\n",
    "\n",
    "##自己写的代码：\n",
    "def solve(my_list,result_list):\n",
    "    if len(my_list)==1: \n",
    "        result_list.append(my_list[0])\n",
    "        print(result_list)\n",
    "        result_list.pop()\n",
    "    else:\n",
    "        for i in range(len(my_list)):\n",
    "            result_list.append(my_list[i])\n",
    "            my_list.pop(i)\n",
    "            solve(my_list,result_list)\n",
    "            my_list.insert(i,result_list.pop()) ##注意my_list是列表可变对象、\n",
    "                                                ##在递归中作为参数的时候可以当作全局变量\n",
    "                                                ##在这里递归返回上一级的时候需要复原\n",
    "                                                ##只能使用result_list.pop()复原，\n",
    "                                                ##不能使用my_list[i]，因为my_list已经修改了                                            \n",
    "lists=[1,2,3]\n",
    "result_list=[]\n",
    "perm(lists,result_list)"
   ]
  },
  {
   "cell_type": "markdown",
   "metadata": {},
   "source": [
    "### 递归方法二：交换第一个元素和其他元素的位置，后面n-1个元素继续做全排列。\n",
    "参考视频：https://www.bilibili.com/video/av9830088?t=732\n",
    "\n",
    "参考博客：https://blog.csdn.net/zhoufen12345/article/details/53560099"
   ]
  },
  {
   "cell_type": "code",
   "execution_count": 101,
   "metadata": {},
   "outputs": [
    {
     "name": "stdout",
     "output_type": "stream",
     "text": [
      "[1, 2, 3]\n",
      "[1, 3, 2]\n",
      "[2, 1, 3]\n",
      "[2, 3, 1]\n",
      "[3, 2, 1]\n",
      "[3, 1, 2]\n"
     ]
    }
   ],
   "source": [
    "def solve(my_list,begin,end):\n",
    "    if begin == end -1 :\n",
    "        print(my_list)\n",
    "    else:\n",
    "        for i in range(begin,end):\n",
    "            my_list[begin],my_list[i] = my_list[i],my_list[begin]\n",
    "            solve(my_list,begin+1,end)\n",
    "            my_list[i],my_list[begin] = my_list[begin],my_list[i]\n",
    "            ##begin是整型不可变变量，在递归中作为参数传递的时候可以当做局部变量，回到上一递归状态时值会自动变化\n",
    "\n",
    "my_list = [1,2,3]\n",
    "solve(my_list,0,len(my_list))"
   ]
  },
  {
   "cell_type": "markdown",
   "metadata": {},
   "source": [
    "### 非递归方式：\n",
    "以'123'作为例子介绍：\n",
    "步骤为：\n",
    "1. 第0号元素和后面所有单个元素交换一下顺序，得到列表my_list = ['123', '213', '321'],需要2次遍历\n",
    "2. 在my_list中第1号元素和后面所有元素交换下顺序，得到my_list = ['123', '213', '321'，'132', '231', '312'] 需要1次遍历\n",
    "\n",
    "注意：总共需要步骤遍历数：n-1"
   ]
  },
  {
   "cell_type": "code",
   "execution_count": 107,
   "metadata": {},
   "outputs": [
    {
     "data": {
      "text/plain": [
       "['123', '213', '321', '132', '231', '312']"
      ]
     },
     "execution_count": 107,
     "metadata": {},
     "output_type": "execute_result"
    }
   ],
   "source": [
    "def solve(strs):\n",
    "    num = len(strs)\n",
    "    my_list = [strs]\n",
    "    for i in range(num-1):\n",
    "        temp_list = []\n",
    "        for j in my_list:\n",
    "            for k in range(num-i-1):\n",
    "                temp = list(j)\n",
    "                temp[i],temp[i+k+1]=temp[i+k+1],temp[i]\n",
    "                temp = ''.join(temp)\n",
    "                temp_list.append(temp)\n",
    "        my_list = my_list+temp_list\n",
    "    return my_list\n",
    "solve('123') "
   ]
  },
  {
   "cell_type": "markdown",
   "metadata": {},
   "source": [
    "## 斐波拉契数列"
   ]
  },
  {
   "cell_type": "code",
   "execution_count": 129,
   "metadata": {},
   "outputs": [
    {
     "data": {
      "text/plain": [
       "[1, 1, 2, 3, 5, 8, 13, 21, 34, 55]"
      ]
     },
     "execution_count": 129,
     "metadata": {},
     "output_type": "execute_result"
    }
   ],
   "source": [
    "#递归方法：\n",
    "def f(n):\n",
    "    if n==0 or n==1 : return 1\n",
    "    return f(n-2)+f(n-1)\n",
    "my_list = []\n",
    "for i in range(10):\n",
    "    my_list.append(f(i))\n",
    "my_list"
   ]
  },
  {
   "cell_type": "code",
   "execution_count": 130,
   "metadata": {},
   "outputs": [
    {
     "data": {
      "text/plain": [
       "[1, 1, 2, 3, 5, 8, 13, 21, 34, 55]"
      ]
     },
     "execution_count": 130,
     "metadata": {},
     "output_type": "execute_result"
    }
   ],
   "source": [
    "#非递归方法：\n",
    "my_list = []\n",
    "for i in range(10):\n",
    "    if i ==0 or i==1 :\n",
    "        my_list.append(1)\n",
    "    else:\n",
    "        my_list.append(my_list[i-2]+my_list[i-1])\n",
    "my_list"
   ]
  },
  {
   "cell_type": "markdown",
   "metadata": {},
   "source": [
    "# 汉诺塔问题\n",
    "![image.png](attachment:image.png)\n",
    "用最少的步数把A柱上的盘子挪到C柱上面，B是中间过渡杆\n",
    "\n",
    "解决步骤：\n",
    "1. 把n-1个盘子挪到B\n",
    "2. 把第n个盘子挪到C\n",
    "3. 把n-1个盘子挪到C（不需要再挪回A柱了）"
   ]
  },
  {
   "cell_type": "code",
   "execution_count": 132,
   "metadata": {},
   "outputs": [
    {
     "name": "stdout",
     "output_type": "stream",
     "text": [
      "将盘子从A挪至C盘\n",
      "将盘子从A挪至B盘\n",
      "将盘子从C挪至B盘\n",
      "将盘子从A挪至C盘\n",
      "将盘子从B挪至A盘\n",
      "将盘子从B挪至C盘\n",
      "将盘子从A挪至C盘\n"
     ]
    }
   ],
   "source": [
    "def hanoi(n,a,b,c):\n",
    "    if n==1 :\n",
    "        print('将盘子从{}挪至{}盘'.format(a,c))\n",
    "    else:\n",
    "        hanoi(n-1,a,c,b)\n",
    "        print('将盘子从{}挪至{}盘'.format(a,c))\n",
    "        hanoi(n-1,b,a,c)\n",
    "hanoi(3,'A','B','C')"
   ]
  },
  {
   "cell_type": "code",
   "execution_count": null,
   "metadata": {},
   "outputs": [],
   "source": []
  }
 ],
 "metadata": {
  "kernelspec": {
   "display_name": "Python 3",
   "language": "python",
   "name": "python3"
  },
  "language_info": {
   "codemirror_mode": {
    "name": "ipython",
    "version": 3
   },
   "file_extension": ".py",
   "mimetype": "text/x-python",
   "name": "python",
   "nbconvert_exporter": "python",
   "pygments_lexer": "ipython3",
   "version": "3.6.0"
  }
 },
 "nbformat": 4,
 "nbformat_minor": 2
}
