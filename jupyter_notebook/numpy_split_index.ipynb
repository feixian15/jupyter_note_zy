{
 "cells": [
  {
   "cell_type": "markdown",
   "metadata": {},
   "source": [
    "笔记参考：http://www.runoob.com/numpy/numpy-advanced-indexing.html\n",
    "## 切片和索引\n",
    "取出数组的一部分叫切片。索引是指按照一种数据结构快速查找数据的方式。\n",
    "1. 可以通过冒号分隔切片参数 start:stop:step 来进行切片操作\n",
    "2. 可以使用冒号：或者省略号...来取一个区间的元素"
   ]
  },
  {
   "cell_type": "code",
   "execution_count": 17,
   "metadata": {},
   "outputs": [],
   "source": [
    "import numpy as np"
   ]
  },
  {
   "cell_type": "code",
   "execution_count": 18,
   "metadata": {},
   "outputs": [
    {
     "data": {
      "text/plain": [
       "array([2, 4, 6])"
      ]
     },
     "execution_count": 18,
     "metadata": {},
     "output_type": "execute_result"
    }
   ],
   "source": [
    "##1. 通过冒号分隔切片参数 start:stop:step 来进行切片操作\n",
    "a = np.arange(10)  \n",
    "b = a[2:7:2]   # 从索引 2 开始到索引 7 停止，间隔为 2\n",
    "b"
   ]
  },
  {
   "cell_type": "code",
   "execution_count": 31,
   "metadata": {},
   "outputs": [
    {
     "name": "stdout",
     "output_type": "stream",
     "text": [
      "[[1 2 3]\n",
      " [3 4 5]\n",
      " [4 5 6]]\n",
      "\n",
      ":切割方式\n",
      "[[3 4 5]\n",
      " [4 5 6]]\n",
      ":切割方式2\n",
      "[[3 4 5]\n",
      " [4 5 6]]\n",
      "...切割方式\n",
      "[[3 4 5]\n",
      " [4 5 6]]\n"
     ]
    }
   ],
   "source": [
    "##2. 可以使用冒号：或者省略号...来取一个区间的元素\n",
    "a = np.array([[1,2,3],[3,4,5],[4,5,6]])\n",
    "print(a)\n",
    "print()\n",
    "print(':切割方式')\n",
    "print(a[1:])\n",
    "print(':切割方式2')\n",
    "print(a[1:,:])\n",
    "print('...切割方式')\n",
    "print(a[1:,...])"
   ]
  },
  {
   "cell_type": "markdown",
   "metadata": {},
   "source": [
    "## 高级索引\n",
    "\n",
    "1. 使用array[数组x，数组y]的形式来进行索引，数组x(y)可以是一维或者多维数组，这种形式只能进行索引，不能切片，一维数组切割出来结果为一维，多维数组切割出来结果为多维度\n",
    "2. 可以借助 : 或 … 进行切片\n",
    "3. 布尔索引: 结果为一维数组\n",
    "4. 花式索引：也是通过数组进行切片或者索引， 和1，2的区别是能够自定义切割结果的顺序(能够变换里面元素的位置)。 包括顺序索引数组，倒序索引数组，多个索引数组（要使用np.ix_）"
   ]
  },
  {
   "cell_type": "code",
   "execution_count": 41,
   "metadata": {},
   "outputs": [
    {
     "name": "stdout",
     "output_type": "stream",
     "text": [
      "我们的数组是：\n",
      "[[ 0  1  2]\n",
      " [ 3  4  5]\n",
      " [ 6  7  8]\n",
      " [ 9 10 11]]\n",
      "\n",
      "一维数组切割结果：\n",
      "[0 4 6]\n",
      "\n",
      "多维数组切割结果，这个数组的四个角元素是：\n",
      "[[ 0  2]\n",
      " [ 9 11]]\n"
     ]
    }
   ],
   "source": [
    "##1. 使用array[数组x，数组y]的形式来进行索引，数组x(y)可以是一维或者多维数组，这种形式只能进行索引，不能切片。\n",
    "import numpy as np \n",
    "\n",
    "x = np.array([[  0,  1,  2],[  3,  4,  5],[  6,  7,  8],[  9,  10,  11]])  \n",
    "print ('我们的数组是：' )\n",
    "print (x)\n",
    "print()\n",
    "print ('一维数组切割结果：')\n",
    "y = x[[0,1,2],  [0,1,0]] \n",
    "print (y)\n",
    "print()\n",
    "print ('多维数组切割结果，这个数组的四个角元素是：')\n",
    "rows = np.array([[0,0],[3,3]]) \n",
    "cols = np.array([[0,2],[0,2]]) \n",
    "y = x[rows,cols]  \n",
    "print (y)"
   ]
  },
  {
   "cell_type": "code",
   "execution_count": 42,
   "metadata": {},
   "outputs": [
    {
     "name": "stdout",
     "output_type": "stream",
     "text": [
      "[[1 2 3]\n",
      " [4 5 6]\n",
      " [7 8 9]]\n",
      "\n",
      "[[5 6]\n",
      " [8 9]]\n",
      "\n",
      "[[5 6]\n",
      " [8 9]]\n",
      "\n",
      "[[2 3]\n",
      " [5 6]\n",
      " [8 9]]\n"
     ]
    }
   ],
   "source": [
    "##2. 可以借助 : 或 … 进行切片\n",
    "import numpy as np\n",
    "a = np.array([[1,2,3], [4,5,6],[7,8,9]])\n",
    "print(a)\n",
    "print()\n",
    "b = a[1:3, 1:3]\n",
    "c = a[1:3,[1,2]]\n",
    "d = a[...,1:]\n",
    "print(b)\n",
    "print()\n",
    "print(c)\n",
    "print()\n",
    "print(d)"
   ]
  },
  {
   "cell_type": "code",
   "execution_count": 43,
   "metadata": {},
   "outputs": [
    {
     "name": "stdout",
     "output_type": "stream",
     "text": [
      "我们的数组是：\n",
      "[[ 0  1  2]\n",
      " [ 3  4  5]\n",
      " [ 6  7  8]\n",
      " [ 9 10 11]]\n",
      "\n",
      "\n",
      "大于 5 的元素是：\n",
      "[ 6  7  8  9 10 11]\n"
     ]
    }
   ],
   "source": [
    "##3. 布尔索引: 结果为一维数组\n",
    "import numpy as np \n",
    "x = np.array([[  0,  1,  2],[  3,  4,  5],[  6,  7,  8],[  9,  10,  11]])  \n",
    "print ('我们的数组是：')\n",
    "print (x)\n",
    "print ('\\n')\n",
    "# 现在我们会打印出大于 5 的元素  \n",
    "print  ('大于 5 的元素是：')\n",
    "print (x[x >  5])"
   ]
  },
  {
   "cell_type": "code",
   "execution_count": 44,
   "metadata": {},
   "outputs": [
    {
     "name": "stdout",
     "output_type": "stream",
     "text": [
      "我们的数组是：\n",
      "[[ 0  1  2  3]\n",
      " [ 4  5  6  7]\n",
      " [ 8  9 10 11]\n",
      " [12 13 14 15]\n",
      " [16 17 18 19]\n",
      " [20 21 22 23]\n",
      " [24 25 26 27]\n",
      " [28 29 30 31]]\n",
      "\n",
      "顺序索引数组切割：\n",
      "[[16 17 18 19]\n",
      " [ 8  9 10 11]\n",
      " [ 4  5  6  7]\n",
      " [28 29 30 31]]\n",
      "\n",
      "倒序索引数组切割：\n",
      "[[16 17 18 19]\n",
      " [24 25 26 27]\n",
      " [28 29 30 31]\n",
      " [ 4  5  6  7]]\n",
      "\n",
      "多个索引数组切割：\n",
      "[[ 4  7  5  6]\n",
      " [20 23 21 22]\n",
      " [28 31 29 30]\n",
      " [ 8 11  9 10]]\n"
     ]
    }
   ],
   "source": [
    "##4. 花式索引：也是通过数组进行切片或者索引， 和1，2的区别是能够自定义切割结果的顺序(能够变换里面元素的位置)。 包括顺序索引数组，倒序索引数组，多个索引数组（要使用np.ix_）\n",
    "import numpy as np \n",
    " \n",
    "x=np.arange(32).reshape((8,4))\n",
    "print ('我们的数组是：')\n",
    "print(x)\n",
    "print()\n",
    "print('顺序索引数组切割：')\n",
    "print (x[[4,2,1,7]])\n",
    "\n",
    "print()\n",
    "print('倒序索引数组切割：')\n",
    "print (x[[-4,-2,-1,-7]])\n",
    " \n",
    "print()\n",
    "print('多个索引数组切割：')\n",
    "x=np.arange(32).reshape((8,4))\n",
    "print (x[np.ix_([1,5,7,2],[0,3,1,2])])"
   ]
  }
 ],
 "metadata": {
  "kernelspec": {
   "display_name": "Python 3",
   "language": "python",
   "name": "python3"
  },
  "language_info": {
   "codemirror_mode": {
    "name": "ipython",
    "version": 3
   },
   "file_extension": ".py",
   "mimetype": "text/x-python",
   "name": "python",
   "nbconvert_exporter": "python",
   "pygments_lexer": "ipython3",
   "version": "3.7.0"
  }
 },
 "nbformat": 4,
 "nbformat_minor": 2
}
