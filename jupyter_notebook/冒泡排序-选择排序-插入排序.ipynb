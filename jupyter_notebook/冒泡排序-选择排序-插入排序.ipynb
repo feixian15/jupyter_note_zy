{
 "cells": [
  {
   "cell_type": "markdown",
   "metadata": {},
   "source": [
    "## 注意：\n",
    "1. 遍历的时候数组最后的下标索引是n-1，但是range(n-1)遍历的时候只能到n-2\n",
    "2. 算法时间复杂度的概念参考：https://blog.csdn.net/itachi85/article/details/54882603"
   ]
  },
  {
   "cell_type": "code",
   "execution_count": 1,
   "metadata": {},
   "outputs": [
    {
     "data": {
      "text/plain": [
       "([1, 2, 4, 5, 6], 8)"
      ]
     },
     "execution_count": 1,
     "metadata": {},
     "output_type": "execute_result"
    }
   ],
   "source": [
    "#冒泡排序\n",
    "#时间复杂度：O(n**2)\n",
    "\n",
    "lists = [5,4,6,2,1]\n",
    "m=0\n",
    "n = len(lists)\n",
    "for i in range(n-1):\n",
    "    for j in range(n-1-i):\n",
    "        if lists[j] > lists[j+1]:\n",
    "            m+=1\n",
    "            lists[j],lists[j+1] = lists[j+1],lists[j]\n",
    "lists,m"
   ]
  },
  {
   "cell_type": "code",
   "execution_count": 2,
   "metadata": {},
   "outputs": [
    {
     "data": {
      "text/plain": [
       "([2, 4, 5, 6, 8], 2)"
      ]
     },
     "execution_count": 2,
     "metadata": {},
     "output_type": "execute_result"
    }
   ],
   "source": [
    "#选择排序\n",
    "#时间复杂度：O(n)\n",
    "\n",
    "lists = [5,4,6,2,8]\n",
    "n = len(lists)\n",
    "m=0\n",
    "\n",
    "for i in range(n-1):\n",
    "    temp = 0\n",
    "    for j in range(n-i):\n",
    "        if lists[temp] < lists[j]:\n",
    "            temp = j\n",
    "    if temp != n-1-i:\n",
    "        lists[temp],lists[n-1-i] = lists[n-1-i],lists[temp]\n",
    "        m+=1\n",
    "lists,m"
   ]
  },
  {
   "cell_type": "code",
   "execution_count": 3,
   "metadata": {},
   "outputs": [
    {
     "data": {
      "text/plain": [
       "([1, 2, 4, 5, 6], 8)"
      ]
     },
     "execution_count": 3,
     "metadata": {},
     "output_type": "execute_result"
    }
   ],
   "source": [
    "#插入排序\n",
    "#时间复杂度：O(n**2)\n",
    "\n",
    "lists = [5,4,6,2,1]\n",
    "n = len(lists)\n",
    "m=0\n",
    "\n",
    "for i in range(1,n):\n",
    "    for j in range(i,0,-1):\n",
    "        if lists[j] < lists[j-1]:\n",
    "            lists[j],lists[j-1]= lists[j-1],lists[j]\n",
    "            m+=1\n",
    "        else:\n",
    "            break\n",
    "lists,m"
   ]
  },
  {
   "cell_type": "code",
   "execution_count": 18,
   "metadata": {},
   "outputs": [
    {
     "data": {
      "text/plain": [
       "([1, 2, 4, 5, 6], 7)"
      ]
     },
     "execution_count": 18,
     "metadata": {},
     "output_type": "execute_result"
    }
   ],
   "source": [
    "##二分法插入排序法\n",
    "# alist=[2,4,7,1,13,5]\n",
    " m=0\n",
    "\n",
    "for i in range(1,len(alist)):\n",
    "    index=alist[i]\n",
    "    low=0\n",
    "    heigh=i-1\n",
    "    while low<=heigh:  \n",
    "        m=m+1\n",
    "        mid=(low+heigh)//2\n",
    "        if alist[mid]<index:\n",
    "            low = mid + 1\n",
    "        elif alist[mid]>index:\n",
    "            heigh = mid - 1\n",
    "        else:\n",
    "            low=mid+1\n",
    "            break\n",
    "    for j in range(i,low,-1):\n",
    "        alist[j]=alist[j-1]\n",
    "    alist[low]=index\n",
    "alist,m"
   ]
  },
  {
   "cell_type": "code",
   "execution_count": null,
   "metadata": {},
   "outputs": [],
   "source": []
  }
 ],
 "metadata": {
  "kernelspec": {
   "display_name": "Python 3",
   "language": "python",
   "name": "python3"
  },
  "language_info": {
   "codemirror_mode": {
    "name": "ipython",
    "version": 3
   },
   "file_extension": ".py",
   "mimetype": "text/x-python",
   "name": "python",
   "nbconvert_exporter": "python",
   "pygments_lexer": "ipython3",
   "version": "3.6.0"
  }
 },
 "nbformat": 4,
 "nbformat_minor": 2
}
