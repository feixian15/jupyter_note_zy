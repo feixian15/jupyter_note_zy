{
 "cells": [
  {
   "cell_type": "markdown",
   "metadata": {},
   "source": [
    "## make Binary Tree"
   ]
  },
  {
   "cell_type": "code",
   "execution_count": 3,
   "metadata": {},
   "outputs": [],
   "source": [
    "class Node:\n",
    "    def __init__(self,value):\n",
    "        self.value = value\n",
    "        self.lNode = None\n",
    "        self.rNode = None"
   ]
  },
  {
   "cell_type": "code",
   "execution_count": 4,
   "metadata": {},
   "outputs": [],
   "source": [
    "node1 = Node(10)\n",
    "node2 = Node(9)\n",
    "node3 = Node(20)\n",
    "node4 = Node(15)\n",
    "node5 = Node(35)"
   ]
  },
  {
   "cell_type": "code",
   "execution_count": 7,
   "metadata": {},
   "outputs": [],
   "source": [
    "node1.lNode = node2\n",
    "node1.rNode = node3\n",
    "node3.lNode = node4\n",
    "node3.rNode = node5"
   ]
  },
  {
   "cell_type": "markdown",
   "metadata": {},
   "source": [
    "## pre_order"
   ]
  },
  {
   "cell_type": "code",
   "execution_count": 17,
   "metadata": {},
   "outputs": [
    {
     "name": "stdout",
     "output_type": "stream",
     "text": [
      "[10, 9, 20, 15, 35]\n"
     ]
    }
   ],
   "source": [
    "my_list = []\n",
    "def get_value(node):\n",
    "    if node == None:\n",
    "        return\n",
    "    else:\n",
    "        my_list.append(node.value)\n",
    "        get_value(node.lNode)\n",
    "        get_value(node.rNode)\n",
    "        \n",
    "get_value(node1)\n",
    "print(my_list)"
   ]
  },
  {
   "cell_type": "markdown",
   "metadata": {},
   "source": [
    "## in_order"
   ]
  },
  {
   "cell_type": "code",
   "execution_count": 19,
   "metadata": {},
   "outputs": [
    {
     "name": "stdout",
     "output_type": "stream",
     "text": [
      "[9, 10, 15, 20, 35]\n"
     ]
    }
   ],
   "source": [
    "my_list = []\n",
    "def get_value(node):\n",
    "    if node == None:\n",
    "        return\n",
    "    else:\n",
    "        get_value(node.lNode)\n",
    "        my_list.append(node.value)\n",
    "        get_value(node.rNode)\n",
    "        \n",
    "get_value(node1)\n",
    "print(my_list)"
   ]
  },
  {
   "cell_type": "markdown",
   "metadata": {},
   "source": [
    "## post_order"
   ]
  },
  {
   "cell_type": "code",
   "execution_count": 20,
   "metadata": {},
   "outputs": [
    {
     "name": "stdout",
     "output_type": "stream",
     "text": [
      "[9, 15, 35, 20, 10]\n"
     ]
    }
   ],
   "source": [
    "my_list = []\n",
    "def get_value(node):\n",
    "    if node == None:\n",
    "        return\n",
    "    else:\n",
    "        get_value(node.lNode)\n",
    "        get_value(node.rNode)\n",
    "        my_list.append(node.value)\n",
    "        \n",
    "get_value(node1)\n",
    "print(my_list)"
   ]
  },
  {
   "cell_type": "markdown",
   "metadata": {},
   "source": [
    "## number of Node"
   ]
  },
  {
   "cell_type": "code",
   "execution_count": 25,
   "metadata": {},
   "outputs": [
    {
     "data": {
      "text/plain": [
       "5"
      ]
     },
     "execution_count": 25,
     "metadata": {},
     "output_type": "execute_result"
    }
   ],
   "source": [
    "def get_number(node):\n",
    "    if node == None:\n",
    "        return 0\n",
    "    else:\n",
    "        return get_number(node.lNode)+get_number(node.rNode)+1\n",
    "        \n",
    "get_number(node1)"
   ]
  },
  {
   "cell_type": "markdown",
   "metadata": {},
   "source": [
    "## deep of Binary Node"
   ]
  },
  {
   "cell_type": "code",
   "execution_count": 26,
   "metadata": {},
   "outputs": [
    {
     "data": {
      "text/plain": [
       "3"
      ]
     },
     "execution_count": 26,
     "metadata": {},
     "output_type": "execute_result"
    }
   ],
   "source": [
    "def get_deep(node):\n",
    "    if node == None:\n",
    "        return 0\n",
    "    else:\n",
    "        return max(get_deep(node.lNode),get_deep(node.rNode))+1\n",
    "        \n",
    "get_deep(node1)"
   ]
  }
 ],
 "metadata": {
  "kernelspec": {
   "display_name": "Python 3",
   "language": "python",
   "name": "python3"
  },
  "language_info": {
   "codemirror_mode": {
    "name": "ipython",
    "version": 3
   },
   "file_extension": ".py",
   "mimetype": "text/x-python",
   "name": "python",
   "nbconvert_exporter": "python",
   "pygments_lexer": "ipython3",
   "version": "3.6.0"
  }
 },
 "nbformat": 4,
 "nbformat_minor": 2
}
