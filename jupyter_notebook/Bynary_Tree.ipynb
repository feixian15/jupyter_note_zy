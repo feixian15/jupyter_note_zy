{
 "cells": [
  {
   "cell_type": "markdown",
   "metadata": {},
   "source": [
    "参考：https://blog.csdn.net/luckyxiaoqiang/article/details/7518888#topic1\n",
    "\n",
    "前序遍历：根左右  \n",
    "中序遍历：左根右（二叉排序树的从小到大排序，先推中序遍历，再推其他）  \n",
    "后序遍历：左右根  \n",
    "层序遍历：每一层一个列表，例子：[[10], [9, 20], [15, 35]]  \n",
    "搜索二叉树: \n",
    "\n",
    "注意：\n",
    "1.写代码的时候可以只考虑最简单的二叉树结构，再考虑复杂的情况\n"
   ]
  },
  {
   "cell_type": "code",
   "execution_count": 27,
   "metadata": {},
   "outputs": [],
   "source": [
    "#      10\n",
    "#    /   \\\n",
    "#   9     20\n",
    "#        / \\\n",
    "#      15   35\n",
    "class Node:\n",
    "    def __init__(self,value):\n",
    "        self.value = value\n",
    "        self.lNode = None\n",
    "        self.rNode = None"
   ]
  },
  {
   "cell_type": "code",
   "execution_count": 28,
   "metadata": {},
   "outputs": [],
   "source": [
    "node1 = Node(10)\n",
    "node2 = Node(9)\n",
    "node3 = Node(20)\n",
    "node4 = Node(15)\n",
    "node5 = Node(35)"
   ]
  },
  {
   "cell_type": "code",
   "execution_count": 29,
   "metadata": {},
   "outputs": [],
   "source": [
    "node1.lNode = node2\n",
    "node1.rNode = node3\n",
    "node3.lNode = node4\n",
    "node3.rNode = node5"
   ]
  },
  {
   "cell_type": "markdown",
   "metadata": {},
   "source": [
    "## 1. pre_order(前序)"
   ]
  },
  {
   "cell_type": "code",
   "execution_count": 4,
   "metadata": {},
   "outputs": [
    {
     "name": "stdout",
     "output_type": "stream",
     "text": [
      "[10, 9, 20, 15, 35]\n"
     ]
    }
   ],
   "source": [
    "my_list = []\n",
    "def get_value(node):\n",
    "    if node == None:\n",
    "        return\n",
    "    else:\n",
    "        my_list.append(node.value)\n",
    "        get_value(node.lNode)\n",
    "        get_value(node.rNode)\n",
    "        \n",
    "get_value(node1)\n",
    "print(my_list)"
   ]
  },
  {
   "cell_type": "markdown",
   "metadata": {},
   "source": [
    "## 2.in_order(中序)"
   ]
  },
  {
   "cell_type": "code",
   "execution_count": 19,
   "metadata": {},
   "outputs": [
    {
     "name": "stdout",
     "output_type": "stream",
     "text": [
      "[9, 10, 15, 20, 35]\n"
     ]
    }
   ],
   "source": [
    "##注意：1.先左分支遍历到底，退出条件为节点为空 2.找到的第一个节点放在循环体里面 3.需要考虑右边节点的遍历，这个很重要\n",
    "\n",
    "my_list = []\n",
    "def get_value(node):\n",
    "    if node == None:\n",
    "        return\n",
    "    else:\n",
    "        get_value(node.lNode)\n",
    "        my_list.append(node.value)\n",
    "        get_value(node.rNode)\n",
    "        \n",
    "get_value(node1)\n",
    "print(my_list)"
   ]
  },
  {
   "cell_type": "markdown",
   "metadata": {},
   "source": [
    "## 3.post_order(后序)"
   ]
  },
  {
   "cell_type": "code",
   "execution_count": 9,
   "metadata": {},
   "outputs": [
    {
     "name": "stdout",
     "output_type": "stream",
     "text": [
      "[9, 15, 35, 20, 10]\n"
     ]
    }
   ],
   "source": [
    "my_list = []\n",
    "def get_value(node):\n",
    "    if node == None:\n",
    "        return\n",
    "    else:\n",
    "        get_value(node.lNode)\n",
    "        get_value(node.rNode)\n",
    "        my_list.append(node.value)\n",
    "        \n",
    "get_value(node1)\n",
    "print(my_list)"
   ]
  },
  {
   "cell_type": "markdown",
   "metadata": {},
   "source": [
    "## 4.层序遍历\n",
    "注意：\n",
    "1. 使用递归来做\n",
    "2. 使用队列来做\n",
    "  \n",
    "队列的用法：\n",
    "1. 实际用的时候，从右边添加，从左边取出"
   ]
  },
  {
   "cell_type": "code",
   "execution_count": 17,
   "metadata": {},
   "outputs": [
    {
     "name": "stdout",
     "output_type": "stream",
     "text": [
      "[[10], [9, 20], [15, 35]]\n"
     ]
    }
   ],
   "source": [
    "## 使用递归来做\n",
    "##注意两点：一是多加了一个index指标，二是当index=len(lists)的时候增加空的列表\n",
    "levels = [] ##可变类型在递归的时候返回上一级别函数里面元素不变，不可变类型会变化\n",
    "def get_value(node):\n",
    "    def cenxu(node, level):\n",
    "        if node == None:\n",
    "            return \n",
    "        if level == len(levels):\n",
    "            levels.append([])\n",
    "        levels[level].append(node.value)\n",
    "        cenxu(node.lNode, level+1)\n",
    "        cenxu(node.rNode, level+1)\n",
    "        \n",
    "    level = 0\n",
    "    cenxu(node,level)\n",
    "       \n",
    "get_value(node1)\n",
    "print(levels)"
   ]
  },
  {
   "cell_type": "code",
   "execution_count": 43,
   "metadata": {},
   "outputs": [
    {
     "data": {
      "text/plain": [
       "[[10], [9, 20], [15, 35]]"
      ]
     },
     "execution_count": 43,
     "metadata": {},
     "output_type": "execute_result"
    }
   ],
   "source": [
    "## 使用python中的队列来做\n",
    "from collections import deque\n",
    "class Solution():\n",
    "    def fun(self,root):\n",
    "        my_deque = deque([root])\n",
    "        lenth = len(my_deque)\n",
    "        result = []\n",
    "        index = 0\n",
    "        while(my_deque):\n",
    "            result.append([])\n",
    "            for i in range(len(my_deque)):\n",
    "                root = my_deque.popleft()\n",
    "                result[index].append(root.value)\n",
    "                if root.lNode!=None:\n",
    "                    my_deque.append(root.lNode)\n",
    "                if root.rNode!=None:\n",
    "                    my_deque.append(root.rNode)         \n",
    "            index = index+1\n",
    "            \n",
    "        return result\n",
    "Solution().fun(node1)"
   ]
  },
  {
   "cell_type": "markdown",
   "metadata": {},
   "source": [
    "## 5.number of Node"
   ]
  },
  {
   "cell_type": "code",
   "execution_count": 25,
   "metadata": {},
   "outputs": [
    {
     "data": {
      "text/plain": [
       "5"
      ]
     },
     "execution_count": 25,
     "metadata": {},
     "output_type": "execute_result"
    }
   ],
   "source": [
    "def get_number(node):\n",
    "    if node == None:\n",
    "        return 0\n",
    "    else:\n",
    "        return get_number(node.lNode)+get_number(node.rNode)+1\n",
    "        \n",
    "get_number(node1)"
   ]
  },
  {
   "cell_type": "markdown",
   "metadata": {},
   "source": [
    "## 6.deep of Binary Node"
   ]
  },
  {
   "cell_type": "code",
   "execution_count": 26,
   "metadata": {},
   "outputs": [
    {
     "data": {
      "text/plain": [
       "3"
      ]
     },
     "execution_count": 26,
     "metadata": {},
     "output_type": "execute_result"
    }
   ],
   "source": [
    "def get_deep(node):\n",
    "    if node == None:\n",
    "        return 0\n",
    "    else:\n",
    "        return max(get_deep(node.lNode),get_deep(node.rNode))+1\n",
    "        \n",
    "get_deep(node1)"
   ]
  },
  {
   "cell_type": "markdown",
   "metadata": {},
   "source": [
    "## 7.convert Binary Search Tree to sorted linked list(双向)"
   ]
  },
  {
   "cell_type": "code",
   "execution_count": 4,
   "metadata": {},
   "outputs": [
    {
     "name": "stdout",
     "output_type": "stream",
     "text": [
      "[9, 10, 15, 20, 35]\n"
     ]
    }
   ],
   "source": [
    "## 新建节点版本（这个挺简单）\n",
    "my_list = []\n",
    "def fun(root):\n",
    "    if root == None:\n",
    "        return\n",
    "    else:\n",
    "        fun(root.lNode)\n",
    "        my_list.append(root.value)\n",
    "        fun(root.rNode)\n",
    "fun(node1)\n",
    "\n",
    "head = Node(my_list[0])\n",
    "print(my_list)\n",
    "tmp = head\n",
    "for i in my_list[1:]:\n",
    "    node = Node(i)\n",
    "    tmp.rNode = node\n",
    "    node.lNode = tmp\n",
    "    tmp = node    "
   ]
  },
  {
   "cell_type": "code",
   "execution_count": 9,
   "metadata": {},
   "outputs": [
    {
     "name": "stdout",
     "output_type": "stream",
     "text": [
      "9 10 15 20 35\n",
      "35 20 15 10 9 "
     ]
    }
   ],
   "source": [
    "## 不允许新建节点版本\n",
    "##整体思路：总体为中序遍历的结构，中间加上双向链表的代码\n",
    "##注意：做一个标注的二叉树做为例子就可以了\n",
    "##参考：这个博客写的很好：https://blog.csdn.net/u010005281/article/details/79657259\n",
    "class Solve():\n",
    "    def __init__(self):\n",
    "        self.head = None\n",
    "        self.tmp = None\n",
    "    def convert(self, root):\n",
    "        if root == None:\n",
    "            return\n",
    "        self.convert(root.lNode)\n",
    "        if self.head == None:\n",
    "            self.head = root\n",
    "            self.tmp = root\n",
    "        else:\n",
    "            self.tmp.rNode = root\n",
    "            root.lNode = self.tmp\n",
    "            self.tmp = root\n",
    "        self.convert(root.rNode)\n",
    "    def print_list(self):\n",
    "        head = self.head\n",
    "        while head.rNode:\n",
    "            print(head.value, end=\" \")\n",
    "            head = head.rNode\n",
    "        print(head.value)\n",
    "        while head:\n",
    "            print(head.value, end = ' ')\n",
    "            head = head.lNode\n",
    "            \n",
    "solve = Solve()\n",
    "solve.convert(node1)\n",
    "solve.print_list()\n",
    "# ## 这种方案有问题，主要是使用闭包函数的时候，head这个变量会在函数中更新变为局部变量，递归到下一个\n",
    "# ## 函数调用时会报错；如果加上global关键字，又会在递归时重复声明问题\n",
    "# def solve(root):\n",
    "#     head = None\n",
    "#     tmp = None\n",
    "#     def fun(root):\n",
    "#         if root == None:\n",
    "#             return\n",
    "#         fun(root.lNode)\n",
    "#         print('haha')\n",
    "#         print(head)\n",
    "#         if head == None:\n",
    "#             global head  ## 这里不能这么定义，递归会导致重复申明\n",
    "#             global tmp\n",
    "#             head = root  ## 这里会使head变为局部变量，递归在下一个函数调用时会报错\n",
    "#             tmp = root\n",
    "#         else:\n",
    "#             tmp.rNode = root\n",
    "#             root.lNode = tmp\n",
    "#             tmp = root\n",
    "#         fun(root.rNode)\n",
    "#     fun(root)\n",
    "#     return head"
   ]
  },
  {
   "cell_type": "markdown",
   "metadata": {},
   "source": [
    "## 8.将有序数组转为搜索二叉树（高度平衡）\n",
    "参考：https://leetcode-cn.com/problems/convert-sorted-array-to-binary-search-tree/\n",
    "## 9.将升序单链表转为搜索二叉树（高度平衡）\n",
    "参考：https://leetcode-cn.com/problems/convert-sorted-list-to-binary-search-tree/submissions/"
   ]
  },
  {
   "cell_type": "markdown",
   "metadata": {},
   "source": [
    "## 10.求二叉树第K层的节点个数"
   ]
  },
  {
   "cell_type": "code",
   "execution_count": null,
   "metadata": {},
   "outputs": [],
   "source": [
    "## 方法一：先获得层序遍历列表，再获得第k层节点个数\n",
    "## 方法二：直接递归，思路：fun(root,k) = fun(root.left,k-1)+fun(root.right,k-1)\n",
    "## 参考：https://www.cnblogs.com/hapjin/p/5505988.html\n",
    "def fun(root, k):\n",
    "    if root == None:\n",
    "        return 0\n",
    "    if k==0:\n",
    "        return 1\n",
    "    else:\n",
    "        return fun(root.lNode, k-1)+fun(root.rNode, k-1)\n",
    "fun(node1, 2)"
   ]
  },
  {
   "cell_type": "markdown",
   "metadata": {},
   "source": [
    "## 11.求二叉树中叶子节点的个数"
   ]
  },
  {
   "cell_type": "code",
   "execution_count": 24,
   "metadata": {},
   "outputs": [
    {
     "data": {
      "text/plain": [
       "3"
      ]
     },
     "execution_count": 24,
     "metadata": {},
     "output_type": "execute_result"
    }
   ],
   "source": [
    "## 直接递归求解,思路：fun(root)= fun(root.left)+fun(root.right)\n",
    "def fun(root):\n",
    "    if root == None:\n",
    "        return 0\n",
    "    if ((root.lNode==None) & ((root.rNode==None))):\n",
    "        return 1\n",
    "    return (fun(root.lNode)+fun(root.rNode))\n",
    "fun(node1)"
   ]
  },
  {
   "cell_type": "markdown",
   "metadata": {},
   "source": [
    "## 12.判断平衡二叉树：\n",
    "(叶子节点高度不能大于1)，一个二叉树每个节点的左右两个子树的高度差的绝对值不超过1。\n",
    "思路：fun(root.left)-fun(root.right)>1\n",
    "https://leetcode-cn.com/problems/balanced-binary-tree/\n",
    "\n",
    "1. 自己写的代码时间复杂度太高，需要更改下，有时间再进行调整，参考leet的解题思路1"
   ]
  },
  {
   "cell_type": "markdown",
   "metadata": {},
   "source": [
    "## 13.判断完全二叉树\n",
    "https://leetcode-cn.com/problems/check-completeness-of-a-binary-tree/  \n",
    "注意：\n",
    "1. 自己的思路：先做出一个层次遍历结果，没有的用None填充，分析这个层次遍历结果即可\n",
    "2. 别人的思路：使用队列进行处理，考虑左子节点和右子节点的几种逻辑情况  \n",
    "\n",
    "队列的用法：\n",
    "1. 实际用的时候，从右边添加，从左边取出"
   ]
  },
  {
   "cell_type": "markdown",
   "metadata": {},
   "source": [
    "## 14.二叉树的镜像，翻转二叉树\n",
    "https://leetcode-cn.com/problems/invert-binary-tree/"
   ]
  },
  {
   "cell_type": "markdown",
   "metadata": {},
   "source": [
    "## 15.二叉树的最近公共祖先\n",
    "https://leetcode-cn.com/problems/lowest-common-ancestor-of-a-binary-tree/  \n",
    "注意：\n",
    "1. 输入的p和q是树结构，不是数值\n",
    "2. 类库里面的全局变量可以用类的属性来定义"
   ]
  },
  {
   "cell_type": "markdown",
   "metadata": {},
   "source": [
    "## 16.由前序遍历序列和中序遍历序列重建二叉树\n",
    "https://leetcode-cn.com/problems/construct-binary-tree-from-preorder-and-inorder-traversal/\n",
    "关键: 由前序遍历或者后序遍历确定根节点"
   ]
  }
 ],
 "metadata": {
  "kernelspec": {
   "display_name": "Python 3",
   "language": "python",
   "name": "python3"
  },
  "language_info": {
   "codemirror_mode": {
    "name": "ipython",
    "version": 3
   },
   "file_extension": ".py",
   "mimetype": "text/x-python",
   "name": "python",
   "nbconvert_exporter": "python",
   "pygments_lexer": "ipython3",
   "version": "3.6.0"
  }
 },
 "nbformat": 4,
 "nbformat_minor": 2
}
