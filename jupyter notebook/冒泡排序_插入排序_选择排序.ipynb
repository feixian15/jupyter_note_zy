{
 "cells": [
  {
   "cell_type": "code",
   "execution_count": 1,
   "metadata": {},
   "outputs": [
    {
     "name": "stdout",
     "output_type": "stream",
     "text": [
      "[1, 2, 4, 5, 7, 13]\n"
     ]
    }
   ],
   "source": [
    "##冒泡排序，复杂度为o(n^2)\n",
    "alist=[2,4,7,1,13,5]\n",
    "for i in range(len(alist)-1):\n",
    "    for j in range(len(alist)-1-i):\n",
    "        if alist[j]>alist[j+1]:\n",
    "            temp=alist[j]\n",
    "            alist[j]=alist[j+1]\n",
    "            alist[j+1]=temp\n",
    "print(alist)"
   ]
  },
  {
   "cell_type": "code",
   "execution_count": 13,
   "metadata": {},
   "outputs": [
    {
     "name": "stdout",
     "output_type": "stream",
     "text": [
      "[1, 2, 4, 5, 7, 13]\n"
     ]
    }
   ],
   "source": [
    "##插入排序,复杂度为o(n^2)\n",
    "alist=[2,4,7,1,13,5]\n",
    "\n",
    "if len(alist)==1:\n",
    "    pass\n",
    "else:\n",
    "    for i in range(1,len(alist)):\n",
    "        for j in range(i,0,-1):\n",
    "            if alist[j]<alist[j-1]:\n",
    "                temp=alist[j]\n",
    "                alist[j]=alist[j-1]\n",
    "                alist[j-1]=temp\n",
    "            else:\n",
    "                break\n",
    "print(alist)"
   ]
  },
  {
   "cell_type": "code",
   "execution_count": 15,
   "metadata": {},
   "outputs": [
    {
     "name": "stdout",
     "output_type": "stream",
     "text": [
      "[1, 2, 4, 5, 7, 13]\n"
     ]
    }
   ],
   "source": [
    "##二分法插入排序法, \n",
    "alist=[2,4,7,1,13,5]\n",
    "#alist=[2]\n",
    "for i in range(1,len(alist)):\n",
    "    index=alist[i]\n",
    "    low=0\n",
    "    heigh=i-1\n",
    "    while low<=heigh:\n",
    "        mid=(low+heigh)//2\n",
    "        if alist[mid]<index:\n",
    "            low+=1\n",
    "        elif alist[mid]>index:\n",
    "            heigh-=1\n",
    "        else:\n",
    "            low=mid+1\n",
    "            break\n",
    "    for j in range(i,low,-1):\n",
    "        alist[j]=alist[j-1]\n",
    "    alist[low]=index\n",
    "print(alist)"
   ]
  },
  {
   "cell_type": "code",
   "execution_count": 12,
   "metadata": {},
   "outputs": [
    {
     "name": "stdout",
     "output_type": "stream",
     "text": [
      "[1, 2, 5, 4, 7, 13]\n"
     ]
    }
   ],
   "source": [
    "##选择排序法\n",
    "alist=[2,4,7,1,13,5]\n",
    "\n",
    "for i in range(len(alist)-1):\n",
    "    min=i\n",
    "    for j in range(i+1,len(alist)):\n",
    "        if alist[j]<alist[i]:\n",
    "            min=j\n",
    "    temp=alist[i]\n",
    "    alist[i]=alist[min]\n",
    "    alist[min]=temp\n",
    "print(alist)"
   ]
  }
 ],
 "metadata": {
  "kernelspec": {
   "display_name": "Python 2",
   "language": "python",
   "name": "python2"
  },
  "language_info": {
   "codemirror_mode": {
    "name": "ipython",
    "version": 2
   },
   "file_extension": ".py",
   "mimetype": "text/x-python",
   "name": "python",
   "nbconvert_exporter": "python",
   "pygments_lexer": "ipython2",
   "version": "2.7.14"
  }
 },
 "nbformat": 4,
 "nbformat_minor": 2
}
