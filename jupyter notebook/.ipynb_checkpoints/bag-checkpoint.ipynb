{
 "cells": [
  {
   "cell_type": "markdown",
   "metadata": {},
   "source": [
    "## 递归第一种写法：（自己最开始想出来的, 目前这种方法还有bug，最后结果不对，后面有时间再调试）\n",
    "思路：先选择1个包的情况，再选择2个。。。一直到n个包。选择n个包的时候相当于做一个全排列，递归的地方在先确定一个包的位置，然后选择n-1个包的位置。"
   ]
  },
  {
   "cell_type": "code",
   "execution_count": 60,
   "metadata": {},
   "outputs": [],
   "source": [
    "import numpy as np\n",
    "    \n",
    "def solve(number,start):\n",
    "    #n：代表物品的个数\n",
    "    #start：\n",
    "    if number==0:\n",
    "        if tmp_list not in result:\n",
    "            tmp =tmp_list.copy()\n",
    "            result.append(tmp)\n",
    "    else:\n",
    "        for index in range(start,n):\n",
    "            tmp_list[index]=1\n",
    "            if np.dot(tmp_list,w) > c:\n",
    "                continue\n",
    "            else:\n",
    "                solve(number-1,index+1)\n",
    "                tmp_list[index]=0\n",
    "\n",
    "w = [2, 2, 3, 1, 5, 2] #每个物品的重量\n",
    "v = [2, 3, 1, 5, 4, 3] #每个物品的价值\n",
    "n = 6 #物品的数量\n",
    "c = 10#书包能承受的重量\n",
    "result = []\n",
    "tmp_list = list(np.zeros(n,dtype=int))\n",
    "for i in range(1,n+1):\n",
    "    solve(i,0)"
   ]
  },
  {
   "cell_type": "code",
   "execution_count": 61,
   "metadata": {},
   "outputs": [
    {
     "data": {
      "text/plain": [
       "[[1, 0, 0, 0, 0, 0],\n",
       " [0, 1, 0, 0, 0, 0],\n",
       " [0, 0, 1, 0, 0, 0],\n",
       " [0, 0, 0, 1, 0, 0],\n",
       " [0, 0, 0, 0, 1, 0],\n",
       " [0, 0, 0, 0, 0, 1],\n",
       " [1, 1, 0, 0, 0, 0],\n",
       " [1, 0, 1, 0, 0, 0],\n",
       " [1, 0, 0, 1, 0, 0],\n",
       " [1, 0, 0, 0, 1, 0],\n",
       " [1, 0, 0, 0, 0, 1],\n",
       " [0, 1, 1, 0, 0, 0],\n",
       " [0, 1, 0, 1, 0, 0],\n",
       " [0, 1, 0, 0, 1, 0],\n",
       " [0, 1, 0, 0, 0, 1],\n",
       " [0, 0, 1, 1, 0, 0],\n",
       " [0, 0, 1, 0, 1, 0],\n",
       " [0, 0, 1, 0, 0, 1],\n",
       " [0, 0, 0, 1, 1, 0],\n",
       " [0, 0, 0, 1, 0, 1],\n",
       " [0, 0, 0, 0, 1, 1],\n",
       " [1, 1, 1, 0, 0, 0],\n",
       " [1, 1, 0, 1, 0, 0],\n",
       " [1, 1, 0, 0, 1, 0],\n",
       " [1, 1, 0, 0, 0, 1],\n",
       " [1, 0, 1, 1, 0, 0],\n",
       " [1, 0, 1, 0, 1, 0],\n",
       " [1, 0, 1, 0, 0, 1],\n",
       " [1, 0, 0, 1, 1, 0],\n",
       " [1, 0, 0, 1, 0, 1],\n",
       " [1, 0, 0, 0, 1, 1],\n",
       " [0, 1, 1, 1, 0, 0],\n",
       " [0, 1, 1, 0, 1, 0],\n",
       " [0, 1, 1, 0, 0, 1],\n",
       " [0, 1, 0, 1, 1, 0],\n",
       " [0, 1, 0, 1, 0, 1],\n",
       " [0, 1, 0, 0, 1, 1],\n",
       " [0, 0, 1, 1, 1, 0],\n",
       " [0, 0, 1, 1, 0, 1],\n",
       " [0, 0, 1, 0, 1, 1],\n",
       " [0, 0, 0, 1, 1, 1],\n",
       " [1, 1, 1, 1, 0, 0]]"
      ]
     },
     "execution_count": 61,
     "metadata": {},
     "output_type": "execute_result"
    }
   ],
   "source": [
    "result"
   ]
  },
  {
   "cell_type": "code",
   "execution_count": 63,
   "metadata": {},
   "outputs": [
    {
     "name": "stdout",
     "output_type": "stream",
     "text": [
      "12\n",
      "[0, 1, 0, 1, 1, 0]\n"
     ]
    }
   ],
   "source": [
    "sum = 0\n",
    "a= []\n",
    "for i in result:\n",
    "    if np.dot(v,i) > sum: \n",
    "        sum =  np.dot(v,i) \n",
    "        a = i\n",
    "print(sum)\n",
    "print(a)"
   ]
  },
  {
   "cell_type": "markdown",
   "metadata": {},
   "source": [
    "## 递归第二种写法：（参考别人博客）\n",
    "思路：把n个背包问题转为n-1个背包问题，递归公式为：max(bag_rec2(n-1,c),bag_rec2(n-1,c-w[n-1])+v[n-1])，结束条件为n=0,即没有物品选择了"
   ]
  },
  {
   "cell_type": "code",
   "execution_count": 6,
   "metadata": {},
   "outputs": [
    {
     "data": {
      "text/plain": [
       "15"
      ]
     },
     "execution_count": 6,
     "metadata": {},
     "output_type": "execute_result"
    }
   ],
   "source": [
    "#0-1背包问题\n",
    "# 测试数据：\n",
    "# n = 6  物品的数量，\n",
    "# c = 10 书包能承受的重量，\n",
    "# w = [2, 2, 3, 1, 5, 2] 每个物品的重量，\n",
    "# v = [2, 3, 1, 5, 4, 3] 每个物品的价值\n",
    "\n",
    "def bag_rec2(n,c):\n",
    "    if n==0: \n",
    "        return 0\n",
    "    else:\n",
    "        if w[n-1]>c :\n",
    "            return bag_rec2(n-1,c)\n",
    "        else:\n",
    "            return max(bag_rec2(n-1,c),bag_rec2(n-1,c-w[n-1])+v[n-1])  \n",
    "\n",
    "w = [2, 2, 3, 1, 5, 2]\n",
    "v = [2, 3, 1, 5, 4, 3]\n",
    "bag_rec2(6,10)"
   ]
  },
  {
   "cell_type": "markdown",
   "metadata": {},
   "source": [
    "# 动态规划写法\n",
    "通过构造矩阵记录下子问题的解来避免重复（这一点还不是特别明白，后面有需要再看），包括子\n",
    "将递归重新写成非递归算法，让后者把些子问题的答案系统地记录在一个表内。利用这种方法的一种技巧叫做动态规划\n",
    "动态规划算法的两个要素：最优子结构和重叠子问题\n",
    "参考：\n",
    "1. https://blog.csdn.net/qq_34178562/article/details/79959380\n",
    "2. http://www.importnew.com/13072.html\n",
    "3. https://www.cnblogs.com/zlcxbb/p/5820666.html"
   ]
  },
  {
   "cell_type": "code",
   "execution_count": 161,
   "metadata": {},
   "outputs": [],
   "source": [
    "#0-1背包问题\n",
    "# 测试数据：\n",
    "# n = 6  物品的数量，\n",
    "# c = 10 书包能承受的重量，\n",
    "# w = [2, 2, 3, 1, 5, 2] 每个物品的重量，\n",
    "# v = [2, 3, 1, 5, 4, 3] 每个物品的价值\n",
    "\n",
    "def bag(n,c,w,v):\n",
    "    res=[[0 for j in range(c+1)] for i in range(n+1)]\n",
    "\n",
    "    for i in range(1, n+1):\n",
    "        for j in range(1, c+1):\n",
    "            if w[i-1]>j:\n",
    "                res[i][j]=res[i-1][j]\n",
    "            else:\n",
    "                res[i][j]= max(res[i-1][j], res[i-1][j-w[i-1]] + v[i-1] )\n",
    "    return res\n",
    " \n",
    "def show(n,c,w,res):\n",
    "    print('最大价值为:',res[n][c])\n",
    "    x = [False for i in range(n)]\n",
    "    j=c\n",
    "    for i in range(n,0,-1):\n",
    "        if res[i][j] > res[i-1][j]:\n",
    "            x[i-1] = True\n",
    "            j -= w[i-1]\n",
    "    for i in range(n):\n",
    "        if x[i]:\n",
    "            print('选第',i+1,'个,',end='')"
   ]
  },
  {
   "cell_type": "code",
   "execution_count": 162,
   "metadata": {},
   "outputs": [
    {
     "name": "stdout",
     "output_type": "stream",
     "text": [
      "最大价值为: 15\n",
      "选第 2 个,选第 4 个,选第 5 个,选第 6 个,"
     ]
    }
   ],
   "source": [
    "n=6\n",
    "c=10\n",
    "w=[2, 2, 3, 1, 5, 2]\n",
    "v=[2, 3, 1, 5, 4, 3]\n",
    "res=bag(n,c,w,v)\n",
    "show(n,c,w,res)"
   ]
  },
  {
   "cell_type": "code",
   "execution_count": 163,
   "metadata": {},
   "outputs": [
    {
     "data": {
      "text/plain": [
       "[[0, 0, 0, 0, 0, 0, 0, 0, 0, 0, 0],\n",
       " [0, 0, 2, 2, 2, 2, 2, 2, 2, 2, 2],\n",
       " [0, 0, 3, 3, 5, 5, 5, 5, 5, 5, 5],\n",
       " [0, 0, 3, 3, 5, 5, 5, 6, 6, 6, 6],\n",
       " [0, 5, 5, 8, 8, 10, 10, 10, 11, 11, 11],\n",
       " [0, 5, 5, 8, 8, 10, 10, 10, 12, 12, 14],\n",
       " [0, 5, 5, 8, 8, 11, 11, 13, 13, 13, 15]]"
      ]
     },
     "execution_count": 163,
     "metadata": {},
     "output_type": "execute_result"
    }
   ],
   "source": [
    "res"
   ]
  },
  {
   "cell_type": "code",
   "execution_count": 164,
   "metadata": {},
   "outputs": [],
   "source": [
    "#以上时间复杂度为O(cn)，已经不能再优化了。但空间复杂度O(cn)可以优化为O(c)。 \n",
    "#思路：尾部迭代，每个状态表示上一次的最佳结果。\n",
    "#但是这种方法无法知道取的哪几个物品，无法调用show()\n",
    "def bag1(n, c, w, v):\n",
    "    values = [0 for i in range(c+1)]\n",
    "    for i in range(1, n + 1):\n",
    "        for j in range(c, 0, -1):\n",
    "            # 背包总容量够放当前物体，遍历前一个状态考虑是否置换，这里的value[j]即为上一次最佳结果\n",
    "            if j >= w[i-1]:\n",
    "                values[j] = max(values[j-w[i-1]]+v[i-1], values[j])\n",
    "    return values"
   ]
  },
  {
   "cell_type": "code",
   "execution_count": 165,
   "metadata": {},
   "outputs": [
    {
     "data": {
      "text/plain": [
       "[0, 5, 5, 8, 8, 11, 11, 13, 13, 13, 15]"
      ]
     },
     "execution_count": 165,
     "metadata": {},
     "output_type": "execute_result"
    }
   ],
   "source": [
    "res=bag1(n,c,w,v)\n",
    "res"
   ]
  },
  {
   "cell_type": "markdown",
   "metadata": {},
   "source": [
    "## 完全背包"
   ]
  },
  {
   "cell_type": "code",
   "execution_count": 18,
   "metadata": {},
   "outputs": [
    {
     "name": "stdout",
     "output_type": "stream",
     "text": [
      "最大价值为: 16\n",
      "[0, 2, 0, 2, 0, 0]\n",
      "第 2 个物品选 2 个第 4 个物品选 2 个"
     ]
    }
   ],
   "source": [
    "#完全背包问题\n",
    "# 测试数据：\n",
    "# n = 6  物品的数量，\n",
    "# c = 10 书包能承受的重量，\n",
    "# w = [2, 2, 3, 1, 5, 2] 每个物品的重量，\n",
    "# v = [2, 3, 1, 5, 4, 3] 每个物品的价值\n",
    "\n",
    "def bag_any(n,c,w,v):\n",
    "    res=[[0 for j in range(c+1)] for i in range(n+1)]\n",
    "\n",
    "    for i in range(1, n+1):\n",
    "        for j in range(1, c+1):\n",
    "            res[i][j]=res[i-1][j] ##先提前赋值一遍，便于后面最大化比较\n",
    "            if w[i-1]<=j:\n",
    "                for k in range(j//w[i-1]):  ##注意这里是j//w[i-1]而不是c//w[i-1]\n",
    "                    res[i][j]= max(res[i][j], res[i-1][j-(k+1)*w[i-1]] + (k+1)*v[i-1] )\n",
    "    return res\n",
    " \n",
    "def show_any(n,c,w,v,res):\n",
    "    print('最大价值为:',res[n][c])\n",
    "    x = [0 for i in range(n)]\n",
    "    j=c\n",
    "    for i in range(n,0,-1):\n",
    "        if res[i][j] == res[i-1][j]:\n",
    "            x[i-1]=0\n",
    "        else:\n",
    "            for k in range(j//w[i-1]):\n",
    "                if res[i-1][j-(k+1)*w[i-1]] + (k+1)*v[i-1] == res[i][j]:\n",
    "                    x[i-1]=k+1\n",
    "                    j-=x[i-1]*w[i-1]\n",
    "    print(x)\n",
    "    for i in range(n):\n",
    "        if x[i]:\n",
    "            print('第',i+1,'个物品选',x[i],'个',end='')\n",
    "n=6\n",
    "c=10\n",
    "w=[2, 2, 3, 3, 5, 2]\n",
    "v=[2, 3, 1, 5, 4, 3]\n",
    "res=bag_any(n,c,w,v)\n",
    "show_any(n,c,w,v,res)"
   ]
  },
  {
   "cell_type": "code",
   "execution_count": 19,
   "metadata": {},
   "outputs": [
    {
     "data": {
      "text/plain": [
       "[[0, 0, 0, 0, 0, 0, 0, 0, 0, 0, 0],\n",
       " [0, 0, 2, 2, 4, 4, 6, 6, 8, 8, 10],\n",
       " [0, 0, 3, 3, 6, 6, 9, 9, 12, 12, 15],\n",
       " [0, 0, 3, 3, 6, 6, 9, 9, 12, 12, 15],\n",
       " [0, 0, 3, 5, 6, 8, 10, 11, 13, 15, 16],\n",
       " [0, 0, 3, 5, 6, 8, 10, 11, 13, 15, 16],\n",
       " [0, 0, 3, 5, 6, 8, 10, 11, 13, 15, 16]]"
      ]
     },
     "execution_count": 19,
     "metadata": {},
     "output_type": "execute_result"
    }
   ],
   "source": [
    "res"
   ]
  },
  {
   "cell_type": "markdown",
   "metadata": {},
   "source": [
    "## 多重背包"
   ]
  },
  {
   "cell_type": "markdown",
   "metadata": {},
   "source": [
    "多重背包问题和完全背包问题解决思路是基本一样的，这里就不再写了"
   ]
  },
  {
   "cell_type": "code",
   "execution_count": null,
   "metadata": {},
   "outputs": [],
   "source": []
  },
  {
   "cell_type": "code",
   "execution_count": null,
   "metadata": {},
   "outputs": [],
   "source": []
  },
  {
   "cell_type": "code",
   "execution_count": 8,
   "metadata": {},
   "outputs": [],
   "source": [
    "#0-1背包问题\n",
    "# 测试数据：\n",
    "# n = 6  物品的数量，\n",
    "# c = 10 书包能承受的重量，\n",
    "# w = [2, 2, 3, 1, 5, 2] 每个物品的重量，\n",
    "# v = [2, 3, 1, 5, 4, 3] 每个物品的价值\n",
    "\n",
    "def bag(n,c,w,v):\n",
    "    res=[[0 for j in range(c+1)] for i in range(n+1)]\n",
    "\n",
    "    for i in range(1, n+1):\n",
    "        for j in range(1, c+1):\n",
    "            if w[i-1]>j:\n",
    "                res[i][j]=res[i-1][j]\n",
    "            else:\n",
    "                res[i][j]= max(res[i-1][j], res[i-1][j-w[i-1]] + v[i-1] )\n",
    "    return res\n",
    " \n",
    "def show(n,c,w,res):\n",
    "    print('最大价值为:',res[n][c])\n",
    "    x = [False for i in range(n)]\n",
    "    j=c\n",
    "    for i in range(n,0,-1):\n",
    "        if res[i][j] > res[i-1][j]:\n",
    "            x[i-1] = True\n",
    "            j -= w[i-1]\n",
    "    for i in range(n):\n",
    "        if x[i]:\n",
    "            print('选第',i+1,'个,',end='')"
   ]
  },
  {
   "cell_type": "code",
   "execution_count": 9,
   "metadata": {},
   "outputs": [
    {
     "name": "stdout",
     "output_type": "stream",
     "text": [
      "最大价值为: 5\n",
      "选第 1 个,选第 2 个,"
     ]
    }
   ],
   "source": [
    "n=4\n",
    "c=6\n",
    "w=[2, 2, 3, 1]\n",
    "v=[2, 3, 1, 5,]\n",
    "res=bag(n,c,w,v)\n",
    "show(n,c,w,res)"
   ]
  },
  {
   "cell_type": "code",
   "execution_count": null,
   "metadata": {},
   "outputs": [],
   "source": []
  },
  {
   "cell_type": "code",
   "execution_count": null,
   "metadata": {},
   "outputs": [],
   "source": []
  }
 ],
 "metadata": {
  "kernelspec": {
   "display_name": "Python 3",
   "language": "python",
   "name": "python3"
  },
  "language_info": {
   "codemirror_mode": {
    "name": "ipython",
    "version": 3
   },
   "file_extension": ".py",
   "mimetype": "text/x-python",
   "name": "python",
   "nbconvert_exporter": "python",
   "pygments_lexer": "ipython3",
   "version": "3.6.5"
  }
 },
 "nbformat": 4,
 "nbformat_minor": 2
}
