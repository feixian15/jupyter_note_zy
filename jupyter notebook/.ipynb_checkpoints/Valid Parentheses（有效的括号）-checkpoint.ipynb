{
 "cells": [
  {
   "cell_type": "markdown",
   "metadata": {},
   "source": [
    "## leetcode题目"
   ]
  },
  {
   "cell_type": "markdown",
   "metadata": {},
   "source": [
    "意思是只有这三种类型的符号，不会有其他的字符串"
   ]
  },
  {
   "cell_type": "code",
   "execution_count": 12,
   "metadata": {},
   "outputs": [],
   "source": [
    "class Solution:\n",
    "    def isValid(self, s):\n",
    "        \"\"\"\n",
    "        :type s: str\n",
    "        :rtype: bool\n",
    "        \"\"\"\n",
    "        my_dict = ['(','[','{']\n",
    "        temp = []\n",
    "        for i in range(len(s)):\n",
    "            if s[i] in my_dict:\n",
    "                temp.append(s[i])\n",
    "            else:\n",
    "                if temp==[] : return False\n",
    "                if s[i]==')' and temp[-1]!='(' : return False\n",
    "                if s[i]==']' and temp[-1]!='[' : return False\n",
    "                if s[i]=='}' and temp[-1]!='{' : return False\n",
    "                temp.pop()\n",
    "        if temp==[] :\n",
    "            return True\n",
    "        else:\n",
    "            return False"
   ]
  },
  {
   "cell_type": "markdown",
   "metadata": {},
   "source": [
    "当含有其他的字符串时"
   ]
  },
  {
   "cell_type": "code",
   "execution_count": 16,
   "metadata": {},
   "outputs": [],
   "source": [
    "strings = 's(df({})dfdf)'\n",
    "str_indexs = [0 for i in range(len(strings))]\n",
    "my_dict = {'(':')','[':']','{':'}'}"
   ]
  },
  {
   "cell_type": "code",
   "execution_count": 18,
   "metadata": {},
   "outputs": [],
   "source": [
    "## 先判断三种类型的括号数量是否一致\n",
    "for i,j in my_dict.items():\n",
    "    left = 0\n",
    "    right = 0\n",
    "    for k in (strings):\n",
    "        if k==i: left +=1\n",
    "        if k==j: right +=1\n",
    "    \n",
    "    if left != right: \n",
    "        print('the string is not avalid')\n",
    "        break"
   ]
  },
  {
   "cell_type": "code",
   "execution_count": 19,
   "metadata": {},
   "outputs": [],
   "source": [
    "## 从左到右开始遍历，找到第一种类型的括号（左半部分），然后由这个位置开始往前遍历，找到第一个还没遍历过的括号（右半部分）\n",
    "for i,j in enumerate(strings):\n",
    "    if  strings[i] in my_dict.values():  \n",
    "        if strings[i]==')': str_temp_pipei = '('  \n",
    "        if strings[i]==']': str_temp_pipei = '['\n",
    "        if strings[i]=='}': str_temp_pipei = '{'\n",
    "        \n",
    "        temp = False\n",
    "    \n",
    "        for k in range(i-1,-1,-1):\n",
    "            if str_indexs[k]==0 and strings[k] in my_dict.keys():\n",
    "                if strings[k]!=str_temp_pipei:\n",
    "                    break\n",
    "                else:\n",
    "                    str_indexs[k]=1\n",
    "                    temp = True\n",
    "                    break\n",
    "        if temp == False:\n",
    "            print('the string is not avalid')\n",
    "            break"
   ]
  }
 ],
 "metadata": {
  "kernelspec": {
   "display_name": "Python 3",
   "language": "python",
   "name": "python3"
  },
  "language_info": {
   "codemirror_mode": {
    "name": "ipython",
    "version": 3
   },
   "file_extension": ".py",
   "mimetype": "text/x-python",
   "name": "python",
   "nbconvert_exporter": "python",
   "pygments_lexer": "ipython3",
   "version": "3.6.0"
  }
 },
 "nbformat": 4,
 "nbformat_minor": 2
}
