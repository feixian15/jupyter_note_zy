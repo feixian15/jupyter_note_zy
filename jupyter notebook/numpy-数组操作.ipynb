{
 "cells": [
  {
   "cell_type": "markdown",
   "metadata": {},
   "source": [
    "## numpy数组的常规操作有数组连接，劈分，展平，修改形状等操作"
   ]
  },
  {
   "cell_type": "markdown",
   "metadata": {},
   "source": [
    "## 1. 数组连接 ：concatenate，stack，block\n",
    "concatenate根据指定的维度，对一个元组、列表中的list或者ndarray进行连接，\n",
    "不会增加维度。stack会按照选择的轴增加一个维度，实际使用的时候可以先把拼接后的形状写出来，然后再考虑合并后的数组是怎样的。\n",
    "block是把一系列的块(通常是ndarray格式)构成的list合并成一个大矩阵，举个例子，一个矩阵均分为4块，再合并为一个大矩阵\n",
    "只使用一句代码时可以使用这个函数，后面用例子具体说明。 "
   ]
  },
  {
   "cell_type": "code",
   "execution_count": 54,
   "metadata": {},
   "outputs": [
    {
     "name": "stdout",
     "output_type": "stream",
     "text": [
      "第一个数组：\n",
      "[[1 2]\n",
      " [3 4]]\n",
      "\n",
      "\n",
      "第二个数组：\n",
      "[[5 6]\n",
      " [7 8]]\n",
      "\n",
      "\n",
      "沿轴 0 堆叠两个数组：\n",
      "[[[1 2]\n",
      "  [3 4]]\n",
      "\n",
      " [[5 6]\n",
      "  [7 8]]]\n",
      "\n",
      "\n",
      "沿轴 1 堆叠两个数组：\n",
      "[[[1 2]\n",
      "  [5 6]]\n",
      "\n",
      " [[3 4]\n",
      "  [7 8]]]\n"
     ]
    }
   ],
   "source": [
    "##stack\n",
    "import numpy as np\n",
    "\n",
    "a = np.array([[1,2],[3,4]])\n",
    " \n",
    "print ('第一个数组：')\n",
    "print (a)\n",
    "print ('\\n')\n",
    "b = np.array([[5,6],[7,8]])\n",
    " \n",
    "print ('第二个数组：')\n",
    "print (b)\n",
    "print ('\\n')\n",
    " \n",
    "print ('沿轴 0 堆叠两个数组：')\n",
    "print (np.stack((a,b),0))\n",
    "print ('\\n')\n",
    " \n",
    "print ('沿轴 1 堆叠两个数组：')\n",
    "print (np.stack((a,b),1))"
   ]
  },
  {
   "cell_type": "code",
   "execution_count": 53,
   "metadata": {},
   "outputs": [
    {
     "name": "stdout",
     "output_type": "stream",
     "text": [
      "第一个数组：\n",
      "[1, 2, 3]\n",
      "第二个数组：\n",
      "[2, 3, 4]\n",
      "\n",
      "concatenate 合并的矩阵为:\n",
      "[1 2 3 2 3 4 2 3 4]\n",
      "\n",
      "concatenate不会新增维度，如果axis原数组中没有会报错\n"
     ]
    },
    {
     "ename": "AxisError",
     "evalue": "axis 1 is out of bounds for array of dimension 1",
     "output_type": "error",
     "traceback": [
      "\u001b[0;31m---------------------------------------------------------------------------\u001b[0m",
      "\u001b[0;31mAxisError\u001b[0m                                 Traceback (most recent call last)",
      "\u001b[0;32m<ipython-input-53-dfc2de056e72>\u001b[0m in \u001b[0;36m<module>\u001b[0;34m()\u001b[0m\n\u001b[1;32m     12\u001b[0m \u001b[0mprint\u001b[0m\u001b[0;34m(\u001b[0m\u001b[0;34m)\u001b[0m\u001b[0;34m\u001b[0m\u001b[0m\n\u001b[1;32m     13\u001b[0m \u001b[0mprint\u001b[0m\u001b[0;34m(\u001b[0m\u001b[0;34m\"concatenate不会新增维度，如果axis原数组中没有会报错\"\u001b[0m\u001b[0;34m)\u001b[0m\u001b[0;34m\u001b[0m\u001b[0m\n\u001b[0;32m---> 14\u001b[0;31m \u001b[0mnp\u001b[0m\u001b[0;34m.\u001b[0m\u001b[0mconcatenate\u001b[0m\u001b[0;34m(\u001b[0m\u001b[0;34m[\u001b[0m\u001b[0ma\u001b[0m\u001b[0;34m,\u001b[0m\u001b[0mb\u001b[0m\u001b[0;34m,\u001b[0m\u001b[0mb\u001b[0m\u001b[0;34m]\u001b[0m\u001b[0;34m,\u001b[0m\u001b[0maxis\u001b[0m\u001b[0;34m=\u001b[0m\u001b[0;36m1\u001b[0m\u001b[0;34m)\u001b[0m\u001b[0;34m\u001b[0m\u001b[0m\n\u001b[0m",
      "\u001b[0;31mAxisError\u001b[0m: axis 1 is out of bounds for array of dimension 1"
     ]
    }
   ],
   "source": [
    "##numpy.concatenate((a1, a2, ...), axis)\n",
    "a = [1,2,3]\n",
    "b = [2,3,4]\n",
    "print ('第一个数组：')\n",
    "print(a)\n",
    "print ('第二个数组：')\n",
    "print(b)\n",
    "print()\n",
    "test = np.concatenate([a,b,b],axis=0)\n",
    "print(\"concatenate 合并的矩阵为:\")\n",
    "print(test)\n",
    "print()\n",
    "print(\"concatenate不会新增维度，如果axis原数组中没有会报错\")\n",
    "np.concatenate([a,b,b],axis=1)"
   ]
  },
  {
   "cell_type": "code",
   "execution_count": 55,
   "metadata": {},
   "outputs": [
    {
     "name": "stdout",
     "output_type": "stream",
     "text": [
      "第一个数组：\n",
      "[[1 2]\n",
      " [3 4]]\n",
      "第二个数组：\n",
      "[[1 2]\n",
      " [3 4]]\n",
      "第三个数组：\n",
      "[[5 6]\n",
      " [7 8]]\n",
      "第四个数组：\n",
      "[[5 6]\n",
      " [7 8]]\n",
      "\n",
      "使用concatenate不能一句代码合并这四个数组，合并结果为：\n",
      "[[[1 2]\n",
      "  [3 4]]\n",
      "\n",
      " [[1 2]\n",
      "  [3 4]]\n",
      "\n",
      " [[5 6]\n",
      "  [7 8]]\n",
      "\n",
      " [[5 6]\n",
      "  [7 8]]]\n",
      "数组形状为：(4, 2, 2)\n",
      "\n",
      "使用block一句代码合并这四个数组，合并结果为：\n",
      "[[1 2 1 2]\n",
      " [3 4 3 4]\n",
      " [5 6 5 6]\n",
      " [7 8 7 8]]\n",
      "数组形状为：(4, 4)\n"
     ]
    }
   ],
   "source": [
    "##block是把一系列的块(通常是ndarray格式)构成的list合并成一个大矩阵，举个例子，一个矩阵均分为4块，再合并为一个大矩阵\n",
    "##只使用一句代码时可以使用这个函数\n",
    "a = np.array([[1,2],[3,4]])\n",
    "b = np.array([[5,6],[7,8]])\n",
    "print ('第一个数组：')\n",
    "print(a)\n",
    "print ('第二个数组：')\n",
    "print(a)\n",
    "print ('第三个数组：')\n",
    "print(b)\n",
    "print ('第四个数组：')\n",
    "print(b)\n",
    "print()\n",
    "\n",
    "print('使用concatenate不能一句代码合并这四个数组，合并结果为：')\n",
    "test = np.concatenate([[a,a],[b,b]])\n",
    "print(test)\n",
    "print(f\"数组形状为：{test.shape}\")\n",
    "print()\n",
    "print('使用block一句代码合并这四个数组，合并结果为：')\n",
    "test = np.block([[a,a],[b,b]])\n",
    "print(test)\n",
    "print(f\"数组形状为：{test.shape}\")"
   ]
  },
  {
   "cell_type": "markdown",
   "metadata": {},
   "source": [
    "## 2. 数组劈分： split，hsplit, vsplit\n",
    "split(array, int)或者split(array, list),list中定义切割的位置。\n",
    "hsplit, vsplit和split用法一样"
   ]
  },
  {
   "cell_type": "code",
   "execution_count": 56,
   "metadata": {},
   "outputs": [
    {
     "name": "stdout",
     "output_type": "stream",
     "text": [
      "第一个数组：\n",
      "[0 1 2 3 4 5 6 7 8]\n",
      "\n",
      "\n",
      "将数组分为三个大小相等的子数组：\n",
      "[array([0, 1, 2]), array([3, 4, 5]), array([6, 7, 8])]\n",
      "\n",
      "\n",
      "将数组在一维数组中表明的位置分割：\n",
      "[array([0, 1, 2, 3]), array([4, 5, 6]), array([7, 8])]\n"
     ]
    }
   ],
   "source": [
    "import numpy as np\n",
    "\n",
    "a = np.arange(9)\n",
    " \n",
    "print ('第一个数组：')\n",
    "print (a)\n",
    "print ('\\n')\n",
    " \n",
    "print ('将数组分为三个大小相等的子数组：')\n",
    "b = np.split(a,3)\n",
    "print (b)\n",
    "print ('\\n')\n",
    " \n",
    "print ('将数组在一维数组中表明的位置分割：')\n",
    "b = np.split(a,[4,7])\n",
    "print (b)"
   ]
  },
  {
   "cell_type": "markdown",
   "metadata": {},
   "source": [
    "## 3. 展平操作: flat,flatten,ravel\n",
    "flat返回一个数组元素迭代器， flatten()返回一份数组拷贝, ravel()修改会影响原始数组"
   ]
  },
  {
   "cell_type": "code",
   "execution_count": 57,
   "metadata": {},
   "outputs": [
    {
     "name": "stdout",
     "output_type": "stream",
     "text": [
      "原始数组是：\n",
      "[[0 1 2]\n",
      " [3 4 5]\n",
      " [6 7 8]]\n",
      "\n",
      "修改flatten()后，原始数组没有影响：\n",
      "[[0 1 2]\n",
      " [3 4 5]\n",
      " [6 7 8]]\n",
      "\n",
      "修改ravel()后，原始数组发生改变：\n",
      "[[2 1 2]\n",
      " [3 4 5]\n",
      " [6 7 8]]\n"
     ]
    }
   ],
   "source": [
    "import numpy as np\n",
    "a = np.arange(9).reshape(3,3) \n",
    "print('原始数组是：')\n",
    "print(a)\n",
    "print()\n",
    "\n",
    "print('修改flatten()后，原始数组没有影响：')\n",
    "a.flatten()[0]=2\n",
    "print(a)\n",
    "print()\n",
    "\n",
    "print('修改ravel()后，原始数组发生改变：')\n",
    "a.ravel()[0]=2\n",
    "print(a)"
   ]
  },
  {
   "cell_type": "markdown",
   "metadata": {},
   "source": [
    "## 4. 修改形状：numpy.reshape （\n",
    "在一维，二维，三维的时候容易理解，当超过三维的时候就难理解一些，可以通过观察中括号[]的方式来理解）"
   ]
  },
  {
   "cell_type": "code",
   "execution_count": 58,
   "metadata": {},
   "outputs": [
    {
     "name": "stdout",
     "output_type": "stream",
     "text": [
      "原始数组：\n",
      "[0 1 2 3 4 5 6 7]\n",
      "\n",
      "\n",
      "修改后的数组：\n",
      "[[0 1]\n",
      " [2 3]\n",
      " [4 5]\n",
      " [6 7]]\n"
     ]
    }
   ],
   "source": [
    "import numpy as np\n",
    " \n",
    "a = np.arange(8)\n",
    "print ('原始数组：')\n",
    "print (a)\n",
    "print ('\\n')\n",
    "\n",
    "b = a.reshape(4,2)\n",
    "print ('修改后的数组：')\n",
    "print (b)"
   ]
  },
  {
   "cell_type": "markdown",
   "metadata": {},
   "source": [
    "## 5.转置： numpy.transpose \n",
    "函数用于对换数组的维度,transpose(1,2,0)"
   ]
  },
  {
   "cell_type": "code",
   "execution_count": 60,
   "metadata": {},
   "outputs": [],
   "source": [
    "np.where?"
   ]
  },
  {
   "cell_type": "code",
   "execution_count": 61,
   "metadata": {},
   "outputs": [],
   "source": [
    "test = np.arange(4).reshape(2,2)"
   ]
  },
  {
   "cell_type": "code",
   "execution_count": 62,
   "metadata": {},
   "outputs": [
    {
     "data": {
      "text/plain": [
       "(array([1, 1]), array([0, 1]))"
      ]
     },
     "execution_count": 62,
     "metadata": {},
     "output_type": "execute_result"
    }
   ],
   "source": [
    "np.where(test>1)"
   ]
  },
  {
   "cell_type": "code",
   "execution_count": 63,
   "metadata": {},
   "outputs": [
    {
     "data": {
      "text/plain": [
       "array([2, 3])"
      ]
     },
     "execution_count": 63,
     "metadata": {},
     "output_type": "execute_result"
    }
   ],
   "source": [
    "test[np.where(test>1)]"
   ]
  },
  {
   "cell_type": "code",
   "execution_count": null,
   "metadata": {},
   "outputs": [],
   "source": []
  }
 ],
 "metadata": {
  "kernelspec": {
   "display_name": "Python 3",
   "language": "python",
   "name": "python3"
  },
  "language_info": {
   "codemirror_mode": {
    "name": "ipython",
    "version": 3
   },
   "file_extension": ".py",
   "mimetype": "text/x-python",
   "name": "python",
   "nbconvert_exporter": "python",
   "pygments_lexer": "ipython3",
   "version": "3.7.0"
  }
 },
 "nbformat": 4,
 "nbformat_minor": 2
}
