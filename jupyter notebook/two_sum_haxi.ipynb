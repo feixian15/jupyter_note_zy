{
 "cells": [
  {
   "cell_type": "code",
   "execution_count": 7,
   "metadata": {
    "collapsed": true
   },
   "outputs": [],
   "source": [
    "##暴力搜索，时间复杂度太大，系统不接受\n",
    "class Solution:\n",
    "    def twoSum(self, nums, target):\n",
    "        \"\"\"\n",
    "        :type nums: List[int]\n",
    "        :type target: int\n",
    "        :rtype: List[int]\n",
    "        \"\"\"\n",
    "        n=len(nums)\n",
    "        for i in range(n):\n",
    "            for j in range(i+1,n):\n",
    "                if (nums[i]+nums[j])==target:\n",
    "                    return [i,j]"
   ]
  },
  {
   "cell_type": "code",
   "execution_count": 8,
   "metadata": {
    "collapsed": true
   },
   "outputs": [],
   "source": [
    "##方法一：\n",
    "\n",
    "##排序\n",
    "##从头尾分别判断两个数的和\n",
    "##找到目标元素的索引\n",
    "\n",
    "class Solution:\n",
    "    def twoSum(self, nums, target):\n",
    "        \"\"\"\n",
    "        :type nums: List[int]\n",
    "        :type target: int\n",
    "        :rtype: List[int]\n",
    "        \"\"\"\n",
    "        nums_sort=nums[:]\n",
    "        nums_sort.sort()\n",
    "        \n",
    "        answer=[]\n",
    "        \n",
    "        n=len(nums)\n",
    "        i=0\n",
    "        j=n-1\n",
    "        \n",
    "        while(True):\n",
    "            if (nums_sort[i]+nums_sort[j])==target:             \n",
    "                for index in range(n):\n",
    "                    if nums_sort[i]==nums[index]:\n",
    "                        answer.append(index)\n",
    "                        break\n",
    "                ##这里必须是range(n-1,-1,-1)的搭配，不能写range[n]不然会出错，比如input=[3,3],traget=6, output=[0,0]这就错了\n",
    "                for index in range(n-1,-1,-1):\n",
    "                    if nums_sort[j]==nums[index]:\n",
    "                        answer.append(index)                        \n",
    "                        break\n",
    "                break\n",
    "                \n",
    "            elif (nums_sort[i]+nums_sort[j])<target:\n",
    "                i+=1\n",
    "            elif (nums_sort[i]+nums_sort[j])>target:\n",
    "                j-=1\n",
    "        answer.sort()##必须进行一个排序\n",
    "        \n",
    "        return answer"
   ]
  },
  {
   "cell_type": "code",
   "execution_count": 9,
   "metadata": {
    "collapsed": true
   },
   "outputs": [],
   "source": [
    "##方法二：使用哈希表\n",
    "##\n",
    "class Solution:\n",
    "    def twoSum(self, nums, target):\n",
    "        \"\"\"\n",
    "        :type nums: List[int]\n",
    "        :type target: int\n",
    "        :rtype: List[int]\n",
    "        \"\"\"\n",
    "        \n",
    "        dict={}\n",
    "        for index in range(len(nums)):\n",
    "            x=nums[index]\n",
    "            if target-x in dict:##这个过程可能很快吧，这里还不是很理解\n",
    "                return (dict[target-x],index)\n",
    "            dict[x]=index ##注意是dict[x]，而不是dict(x)"
   ]
  }
 ],
 "metadata": {
  "kernelspec": {
   "display_name": "Python 2",
   "language": "python",
   "name": "python2"
  },
  "language_info": {
   "codemirror_mode": {
    "name": "ipython",
    "version": 2
   },
   "file_extension": ".py",
   "mimetype": "text/x-python",
   "name": "python",
   "nbconvert_exporter": "python",
   "pygments_lexer": "ipython2",
   "version": "2.7.14"
  }
 },
 "nbformat": 4,
 "nbformat_minor": 2
}
