{
 "cells": [
  {
   "cell_type": "markdown",
   "metadata": {},
   "source": [
    "# 字典排序\n",
    "注意：\n",
    "1. 字典是无序的，将无序的随机变量按照一定规则形成序列\n",
    "2. sort和sorted的区别：\n",
    "object.sort()               : object被修改\n",
    "object_new = sorted(object, key=None) : object没有被修改，key可以自定义排序"
   ]
  },
  {
   "cell_type": "markdown",
   "metadata": {},
   "source": [
    "## 字典按键排序"
   ]
  },
  {
   "cell_type": "code",
   "execution_count": 1,
   "metadata": {},
   "outputs": [
    {
     "data": {
      "text/plain": [
       "[('data1', 5), ('data2', 4), ('data3', 1)]"
      ]
     },
     "execution_count": 1,
     "metadata": {},
     "output_type": "execute_result"
    }
   ],
   "source": [
    "my_dict = {'data3':1, 'data2':4, 'data1': 5}\n",
    "sorted(my_dict.items())"
   ]
  },
  {
   "cell_type": "markdown",
   "metadata": {},
   "source": [
    "## 字典按值排序（方法一）"
   ]
  },
  {
   "cell_type": "code",
   "execution_count": 2,
   "metadata": {},
   "outputs": [
    {
     "data": {
      "text/plain": [
       "[('data3', 1), ('data2', 4), ('data1', 5)]"
      ]
     },
     "execution_count": 2,
     "metadata": {},
     "output_type": "execute_result"
    }
   ],
   "source": [
    "my_dict = {'data3':1, 'data2':4, 'data1': 5}\n",
    "(sorted(my_dict.items(),key=lambda v : v[-1]))"
   ]
  },
  {
   "cell_type": "markdown",
   "metadata": {},
   "source": [
    "## 字典按值排序（方法二）"
   ]
  },
  {
   "cell_type": "code",
   "execution_count": 6,
   "metadata": {},
   "outputs": [
    {
     "data": {
      "text/plain": [
       "[(1, 'data3'), (4, 'data2'), (5, 'data1')]"
      ]
     },
     "execution_count": 6,
     "metadata": {},
     "output_type": "execute_result"
    }
   ],
   "source": [
    "my_dict = {'data3':1, 'data2':4, 'data1': 5}\n",
    "sorted(zip(my_dict.values(), my_dict.keys()))"
   ]
  },
  {
   "cell_type": "markdown",
   "metadata": {},
   "source": [
    "## sorted() key可以自定义排序"
   ]
  },
  {
   "cell_type": "code",
   "execution_count": 11,
   "metadata": {},
   "outputs": [
    {
     "name": "stdout",
     "output_type": "stream",
     "text": [
      "('data3', 1)\n",
      "('data2', 4)\n",
      "('data1', 5)\n"
     ]
    },
    {
     "data": {
      "text/plain": [
       "[('data3', 1), ('data2', 4), ('data1', 5)]"
      ]
     },
     "execution_count": 11,
     "metadata": {},
     "output_type": "execute_result"
    }
   ],
   "source": [
    "def fun(x):\n",
    "    ##返回排序需要参考的值\n",
    "    print(x)\n",
    "    return x[-1]\n",
    "\n",
    "my_dict = {'data3':1, 'data2':4, 'data1': 5}\n",
    "my_dict_new = sorted(my_dict.items(), key=fun)\n",
    "my_dict_new"
   ]
  },
  {
   "cell_type": "code",
   "execution_count": null,
   "metadata": {},
   "outputs": [],
   "source": []
  }
 ],
 "metadata": {
  "kernelspec": {
   "display_name": "Python 3",
   "language": "python",
   "name": "python3"
  },
  "language_info": {
   "codemirror_mode": {
    "name": "ipython",
    "version": 3
   },
   "file_extension": ".py",
   "mimetype": "text/x-python",
   "name": "python",
   "nbconvert_exporter": "python",
   "pygments_lexer": "ipython3",
   "version": "3.6.5"
  }
 },
 "nbformat": 4,
 "nbformat_minor": 2
}
