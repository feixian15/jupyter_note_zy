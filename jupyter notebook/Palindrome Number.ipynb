{
 "cells": [
  {
   "cell_type": "code",
   "execution_count": 4,
   "metadata": {},
   "outputs": [
    {
     "data": {
      "text/plain": [
       "True"
      ]
     },
     "execution_count": 4,
     "metadata": {},
     "output_type": "execute_result"
    }
   ],
   "source": [
    "##方法一：求整形的逆\n",
    "class Solution:\n",
    "    def isPalindrome(self, x):\n",
    "        \"\"\"\n",
    "        :type x: int\n",
    "        :rtype: bool\n",
    "        \"\"\"\n",
    "        if x<0 :\n",
    "            return False\n",
    "        else:\n",
    "            t=0\n",
    "            x_new=x\n",
    "            while(x_new):\n",
    "                t=10*t+x_new%10\n",
    "                x_new=x_new//10\n",
    "            return True if t==x else False        \n",
    "        \n",
    "a=Solution()\n",
    "a.isPalindrome(1)\n"
   ]
  },
  {
   "cell_type": "code",
   "execution_count": 12,
   "metadata": {},
   "outputs": [
    {
     "data": {
      "text/plain": [
       "True"
      ]
     },
     "execution_count": 12,
     "metadata": {},
     "output_type": "execute_result"
    }
   ],
   "source": [
    "##方法二：循环到一半就停止。\n",
    "##但是注意两点：\n",
    "#1.不是0但是结尾为0的不是回文，需要提前排除 \n",
    "#2.如果是偶数长度，很简单判断 r == x，如果是奇数长度，要判断 r/10 == x\n",
    "##方法一：求整形的逆\n",
    "class Solution:\n",
    "    def isPalindrome(self, x):\n",
    "        \"\"\"\n",
    "        :type x: int\n",
    "        :rtype: bool\n",
    "        \"\"\"\n",
    "        \n",
    "        if x<0 :\n",
    "            return False\n",
    "        elif x!=0 and x%10==0 :\n",
    "            return False\n",
    "        else:\n",
    "            t=0\n",
    "            while(t<x):\n",
    "                t=10*t+x%10\n",
    "                x=x//10\n",
    "                \n",
    "            return True if t==x or x==t//10 else False        \n",
    "        \n",
    "a=Solution()\n",
    "a.isPalindrome(1)"
   ]
  },
  {
   "cell_type": "code",
   "execution_count": 8,
   "metadata": {},
   "outputs": [
    {
     "data": {
      "text/plain": [
       "True"
      ]
     },
     "execution_count": 8,
     "metadata": {},
     "output_type": "execute_result"
    }
   ],
   "source": [
    "##方法三：转换成字符串然后用python自带的函数转换\n",
    "class Solution:\n",
    "    def isPalindrome(self, x):\n",
    "        \"\"\"\n",
    "        :type x: int\n",
    "        :rtype: bool\n",
    "        \"\"\"\n",
    "        if x<0 :\n",
    "            return False\n",
    "        else:\n",
    "            return True if int(str(x)[::-1])==x else False        \n",
    "        \n",
    "a=Solution()\n",
    "a.isPalindrome(1)"
   ]
  },
  {
   "cell_type": "code",
   "execution_count": null,
   "metadata": {
    "collapsed": true
   },
   "outputs": [],
   "source": []
  }
 ],
 "metadata": {
  "kernelspec": {
   "display_name": "Python 2",
   "language": "python",
   "name": "python2"
  },
  "language_info": {
   "codemirror_mode": {
    "name": "ipython",
    "version": 2
   },
   "file_extension": ".py",
   "mimetype": "text/x-python",
   "name": "python",
   "nbconvert_exporter": "python",
   "pygments_lexer": "ipython2",
   "version": "2.7.14"
  }
 },
 "nbformat": 4,
 "nbformat_minor": 2
}
